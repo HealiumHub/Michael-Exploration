{
 "cells": [
  {
   "cell_type": "code",
   "execution_count": 1,
   "metadata": {},
   "outputs": [
    {
     "name": "stdout",
     "output_type": "stream",
     "text": [
      "Requirement already satisfied: llama-index in ./.venv/lib/python3.12/site-packages (0.10.42)\n",
      "Requirement already satisfied: llama-index-agent-openai<0.3.0,>=0.1.4 in ./.venv/lib/python3.12/site-packages (from llama-index) (0.2.6)\n",
      "Requirement already satisfied: llama-index-cli<0.2.0,>=0.1.2 in ./.venv/lib/python3.12/site-packages (from llama-index) (0.1.12)\n",
      "Requirement already satisfied: llama-index-core==0.10.42 in ./.venv/lib/python3.12/site-packages (from llama-index) (0.10.42)\n",
      "Requirement already satisfied: llama-index-embeddings-openai<0.2.0,>=0.1.5 in ./.venv/lib/python3.12/site-packages (from llama-index) (0.1.10)\n",
      "Requirement already satisfied: llama-index-indices-managed-llama-cloud<0.2.0,>=0.1.2 in ./.venv/lib/python3.12/site-packages (from llama-index) (0.1.6)\n",
      "Requirement already satisfied: llama-index-legacy<0.10.0,>=0.9.48 in ./.venv/lib/python3.12/site-packages (from llama-index) (0.9.48)\n",
      "Requirement already satisfied: llama-index-llms-openai<0.2.0,>=0.1.13 in ./.venv/lib/python3.12/site-packages (from llama-index) (0.1.21)\n",
      "Requirement already satisfied: llama-index-multi-modal-llms-openai<0.2.0,>=0.1.3 in ./.venv/lib/python3.12/site-packages (from llama-index) (0.1.6)\n",
      "Requirement already satisfied: llama-index-program-openai<0.2.0,>=0.1.3 in ./.venv/lib/python3.12/site-packages (from llama-index) (0.1.6)\n",
      "Requirement already satisfied: llama-index-question-gen-openai<0.2.0,>=0.1.2 in ./.venv/lib/python3.12/site-packages (from llama-index) (0.1.3)\n",
      "Requirement already satisfied: llama-index-readers-file<0.2.0,>=0.1.4 in ./.venv/lib/python3.12/site-packages (from llama-index) (0.1.23)\n",
      "Requirement already satisfied: llama-index-readers-llama-parse<0.2.0,>=0.1.2 in ./.venv/lib/python3.12/site-packages (from llama-index) (0.1.4)\n",
      "Requirement already satisfied: PyYAML>=6.0.1 in ./.venv/lib/python3.12/site-packages (from llama-index-core==0.10.42->llama-index) (6.0.1)\n",
      "Requirement already satisfied: SQLAlchemy>=1.4.49 in ./.venv/lib/python3.12/site-packages (from SQLAlchemy[asyncio]>=1.4.49->llama-index-core==0.10.42->llama-index) (2.0.30)\n",
      "Requirement already satisfied: aiohttp<4.0.0,>=3.8.6 in ./.venv/lib/python3.12/site-packages (from llama-index-core==0.10.42->llama-index) (3.9.5)\n",
      "Requirement already satisfied: dataclasses-json in ./.venv/lib/python3.12/site-packages (from llama-index-core==0.10.42->llama-index) (0.6.6)\n",
      "Requirement already satisfied: deprecated>=1.2.9.3 in ./.venv/lib/python3.12/site-packages (from llama-index-core==0.10.42->llama-index) (1.2.14)\n",
      "Requirement already satisfied: dirtyjson<2.0.0,>=1.0.8 in ./.venv/lib/python3.12/site-packages (from llama-index-core==0.10.42->llama-index) (1.0.8)\n",
      "Requirement already satisfied: fsspec>=2023.5.0 in ./.venv/lib/python3.12/site-packages (from llama-index-core==0.10.42->llama-index) (2024.5.0)\n",
      "Requirement already satisfied: httpx in ./.venv/lib/python3.12/site-packages (from llama-index-core==0.10.42->llama-index) (0.27.0)\n",
      "Requirement already satisfied: llamaindex-py-client<0.2.0,>=0.1.18 in ./.venv/lib/python3.12/site-packages (from llama-index-core==0.10.42->llama-index) (0.1.19)\n",
      "Requirement already satisfied: nest-asyncio<2.0.0,>=1.5.8 in ./.venv/lib/python3.12/site-packages (from llama-index-core==0.10.42->llama-index) (1.6.0)\n",
      "Requirement already satisfied: networkx>=3.0 in ./.venv/lib/python3.12/site-packages (from llama-index-core==0.10.42->llama-index) (3.3)\n",
      "Requirement already satisfied: nltk<4.0.0,>=3.8.1 in ./.venv/lib/python3.12/site-packages (from llama-index-core==0.10.42->llama-index) (3.8.1)\n",
      "Requirement already satisfied: numpy in ./.venv/lib/python3.12/site-packages (from llama-index-core==0.10.42->llama-index) (1.26.4)\n",
      "Requirement already satisfied: openai>=1.1.0 in ./.venv/lib/python3.12/site-packages (from llama-index-core==0.10.42->llama-index) (1.30.5)\n",
      "Requirement already satisfied: pandas in ./.venv/lib/python3.12/site-packages (from llama-index-core==0.10.42->llama-index) (2.2.2)\n",
      "Requirement already satisfied: pillow>=9.0.0 in ./.venv/lib/python3.12/site-packages (from llama-index-core==0.10.42->llama-index) (10.3.0)\n",
      "Requirement already satisfied: requests>=2.31.0 in ./.venv/lib/python3.12/site-packages (from llama-index-core==0.10.42->llama-index) (2.32.3)\n",
      "Requirement already satisfied: tenacity<9.0.0,>=8.2.0 in ./.venv/lib/python3.12/site-packages (from llama-index-core==0.10.42->llama-index) (8.3.0)\n",
      "Requirement already satisfied: tiktoken>=0.3.3 in ./.venv/lib/python3.12/site-packages (from llama-index-core==0.10.42->llama-index) (0.7.0)\n",
      "Requirement already satisfied: tqdm<5.0.0,>=4.66.1 in ./.venv/lib/python3.12/site-packages (from llama-index-core==0.10.42->llama-index) (4.66.4)\n",
      "Requirement already satisfied: typing-extensions>=4.5.0 in ./.venv/lib/python3.12/site-packages (from llama-index-core==0.10.42->llama-index) (4.12.1)\n",
      "Requirement already satisfied: typing-inspect>=0.8.0 in ./.venv/lib/python3.12/site-packages (from llama-index-core==0.10.42->llama-index) (0.9.0)\n",
      "Requirement already satisfied: wrapt in ./.venv/lib/python3.12/site-packages (from llama-index-core==0.10.42->llama-index) (1.16.0)\n",
      "Requirement already satisfied: beautifulsoup4<5.0.0,>=4.12.3 in ./.venv/lib/python3.12/site-packages (from llama-index-readers-file<0.2.0,>=0.1.4->llama-index) (4.12.3)\n",
      "Requirement already satisfied: pypdf<5.0.0,>=4.0.1 in ./.venv/lib/python3.12/site-packages (from llama-index-readers-file<0.2.0,>=0.1.4->llama-index) (4.2.0)\n",
      "Requirement already satisfied: striprtf<0.0.27,>=0.0.26 in ./.venv/lib/python3.12/site-packages (from llama-index-readers-file<0.2.0,>=0.1.4->llama-index) (0.0.26)\n",
      "Requirement already satisfied: llama-parse<0.5.0,>=0.4.0 in ./.venv/lib/python3.12/site-packages (from llama-index-readers-llama-parse<0.2.0,>=0.1.2->llama-index) (0.4.4)\n",
      "Requirement already satisfied: aiosignal>=1.1.2 in ./.venv/lib/python3.12/site-packages (from aiohttp<4.0.0,>=3.8.6->llama-index-core==0.10.42->llama-index) (1.3.1)\n",
      "Requirement already satisfied: attrs>=17.3.0 in ./.venv/lib/python3.12/site-packages (from aiohttp<4.0.0,>=3.8.6->llama-index-core==0.10.42->llama-index) (23.2.0)\n",
      "Requirement already satisfied: frozenlist>=1.1.1 in ./.venv/lib/python3.12/site-packages (from aiohttp<4.0.0,>=3.8.6->llama-index-core==0.10.42->llama-index) (1.4.1)\n",
      "Requirement already satisfied: multidict<7.0,>=4.5 in ./.venv/lib/python3.12/site-packages (from aiohttp<4.0.0,>=3.8.6->llama-index-core==0.10.42->llama-index) (6.0.5)\n",
      "Requirement already satisfied: yarl<2.0,>=1.0 in ./.venv/lib/python3.12/site-packages (from aiohttp<4.0.0,>=3.8.6->llama-index-core==0.10.42->llama-index) (1.9.4)\n",
      "Requirement already satisfied: soupsieve>1.2 in ./.venv/lib/python3.12/site-packages (from beautifulsoup4<5.0.0,>=4.12.3->llama-index-readers-file<0.2.0,>=0.1.4->llama-index) (2.5)\n",
      "Requirement already satisfied: pydantic>=1.10 in ./.venv/lib/python3.12/site-packages (from llamaindex-py-client<0.2.0,>=0.1.18->llama-index-core==0.10.42->llama-index) (2.7.2)\n",
      "Requirement already satisfied: anyio in ./.venv/lib/python3.12/site-packages (from httpx->llama-index-core==0.10.42->llama-index) (4.4.0)\n",
      "Requirement already satisfied: certifi in ./.venv/lib/python3.12/site-packages (from httpx->llama-index-core==0.10.42->llama-index) (2024.6.2)\n",
      "Requirement already satisfied: httpcore==1.* in ./.venv/lib/python3.12/site-packages (from httpx->llama-index-core==0.10.42->llama-index) (1.0.5)\n",
      "Requirement already satisfied: idna in ./.venv/lib/python3.12/site-packages (from httpx->llama-index-core==0.10.42->llama-index) (3.7)\n",
      "Requirement already satisfied: sniffio in ./.venv/lib/python3.12/site-packages (from httpx->llama-index-core==0.10.42->llama-index) (1.3.1)\n",
      "Requirement already satisfied: h11<0.15,>=0.13 in ./.venv/lib/python3.12/site-packages (from httpcore==1.*->httpx->llama-index-core==0.10.42->llama-index) (0.14.0)\n",
      "Requirement already satisfied: click in ./.venv/lib/python3.12/site-packages (from nltk<4.0.0,>=3.8.1->llama-index-core==0.10.42->llama-index) (8.1.7)\n",
      "Requirement already satisfied: joblib in ./.venv/lib/python3.12/site-packages (from nltk<4.0.0,>=3.8.1->llama-index-core==0.10.42->llama-index) (1.4.2)\n",
      "Requirement already satisfied: regex>=2021.8.3 in ./.venv/lib/python3.12/site-packages (from nltk<4.0.0,>=3.8.1->llama-index-core==0.10.42->llama-index) (2024.5.15)\n",
      "Requirement already satisfied: distro<2,>=1.7.0 in ./.venv/lib/python3.12/site-packages (from openai>=1.1.0->llama-index-core==0.10.42->llama-index) (1.9.0)\n",
      "Requirement already satisfied: charset-normalizer<4,>=2 in ./.venv/lib/python3.12/site-packages (from requests>=2.31.0->llama-index-core==0.10.42->llama-index) (3.3.2)\n",
      "Requirement already satisfied: urllib3<3,>=1.21.1 in ./.venv/lib/python3.12/site-packages (from requests>=2.31.0->llama-index-core==0.10.42->llama-index) (2.2.1)\n",
      "Requirement already satisfied: greenlet!=0.4.17 in ./.venv/lib/python3.12/site-packages (from SQLAlchemy[asyncio]>=1.4.49->llama-index-core==0.10.42->llama-index) (3.0.3)\n",
      "Requirement already satisfied: mypy-extensions>=0.3.0 in ./.venv/lib/python3.12/site-packages (from typing-inspect>=0.8.0->llama-index-core==0.10.42->llama-index) (1.0.0)\n",
      "Requirement already satisfied: marshmallow<4.0.0,>=3.18.0 in ./.venv/lib/python3.12/site-packages (from dataclasses-json->llama-index-core==0.10.42->llama-index) (3.21.2)\n",
      "Requirement already satisfied: python-dateutil>=2.8.2 in ./.venv/lib/python3.12/site-packages (from pandas->llama-index-core==0.10.42->llama-index) (2.9.0.post0)\n",
      "Requirement already satisfied: pytz>=2020.1 in ./.venv/lib/python3.12/site-packages (from pandas->llama-index-core==0.10.42->llama-index) (2024.1)\n",
      "Requirement already satisfied: tzdata>=2022.7 in ./.venv/lib/python3.12/site-packages (from pandas->llama-index-core==0.10.42->llama-index) (2024.1)\n",
      "Requirement already satisfied: packaging>=17.0 in ./.venv/lib/python3.12/site-packages (from marshmallow<4.0.0,>=3.18.0->dataclasses-json->llama-index-core==0.10.42->llama-index) (24.0)\n",
      "Requirement already satisfied: annotated-types>=0.4.0 in ./.venv/lib/python3.12/site-packages (from pydantic>=1.10->llamaindex-py-client<0.2.0,>=0.1.18->llama-index-core==0.10.42->llama-index) (0.7.0)\n",
      "Requirement already satisfied: pydantic-core==2.18.3 in ./.venv/lib/python3.12/site-packages (from pydantic>=1.10->llamaindex-py-client<0.2.0,>=0.1.18->llama-index-core==0.10.42->llama-index) (2.18.3)\n",
      "Requirement already satisfied: six>=1.5 in ./.venv/lib/python3.12/site-packages (from python-dateutil>=2.8.2->pandas->llama-index-core==0.10.42->llama-index) (1.16.0)\n",
      "Note: you may need to restart the kernel to use updated packages.\n",
      "Requirement already satisfied: llama-index-graph-stores-neo4j in ./.venv/lib/python3.12/site-packages (0.2.1)\n",
      "Requirement already satisfied: llama-index-core<0.11.0,>=0.10.40 in ./.venv/lib/python3.12/site-packages (from llama-index-graph-stores-neo4j) (0.10.42)\n",
      "Requirement already satisfied: neo4j<6.0.0,>=5.16.0 in ./.venv/lib/python3.12/site-packages (from llama-index-graph-stores-neo4j) (5.20.0)\n",
      "Requirement already satisfied: PyYAML>=6.0.1 in ./.venv/lib/python3.12/site-packages (from llama-index-core<0.11.0,>=0.10.40->llama-index-graph-stores-neo4j) (6.0.1)\n",
      "Requirement already satisfied: SQLAlchemy>=1.4.49 in ./.venv/lib/python3.12/site-packages (from SQLAlchemy[asyncio]>=1.4.49->llama-index-core<0.11.0,>=0.10.40->llama-index-graph-stores-neo4j) (2.0.30)\n",
      "Requirement already satisfied: aiohttp<4.0.0,>=3.8.6 in ./.venv/lib/python3.12/site-packages (from llama-index-core<0.11.0,>=0.10.40->llama-index-graph-stores-neo4j) (3.9.5)\n",
      "Requirement already satisfied: dataclasses-json in ./.venv/lib/python3.12/site-packages (from llama-index-core<0.11.0,>=0.10.40->llama-index-graph-stores-neo4j) (0.6.6)\n",
      "Requirement already satisfied: deprecated>=1.2.9.3 in ./.venv/lib/python3.12/site-packages (from llama-index-core<0.11.0,>=0.10.40->llama-index-graph-stores-neo4j) (1.2.14)\n",
      "Requirement already satisfied: dirtyjson<2.0.0,>=1.0.8 in ./.venv/lib/python3.12/site-packages (from llama-index-core<0.11.0,>=0.10.40->llama-index-graph-stores-neo4j) (1.0.8)\n",
      "Requirement already satisfied: fsspec>=2023.5.0 in ./.venv/lib/python3.12/site-packages (from llama-index-core<0.11.0,>=0.10.40->llama-index-graph-stores-neo4j) (2024.5.0)\n",
      "Requirement already satisfied: httpx in ./.venv/lib/python3.12/site-packages (from llama-index-core<0.11.0,>=0.10.40->llama-index-graph-stores-neo4j) (0.27.0)\n",
      "Requirement already satisfied: llamaindex-py-client<0.2.0,>=0.1.18 in ./.venv/lib/python3.12/site-packages (from llama-index-core<0.11.0,>=0.10.40->llama-index-graph-stores-neo4j) (0.1.19)\n",
      "Requirement already satisfied: nest-asyncio<2.0.0,>=1.5.8 in ./.venv/lib/python3.12/site-packages (from llama-index-core<0.11.0,>=0.10.40->llama-index-graph-stores-neo4j) (1.6.0)\n",
      "Requirement already satisfied: networkx>=3.0 in ./.venv/lib/python3.12/site-packages (from llama-index-core<0.11.0,>=0.10.40->llama-index-graph-stores-neo4j) (3.3)\n",
      "Requirement already satisfied: nltk<4.0.0,>=3.8.1 in ./.venv/lib/python3.12/site-packages (from llama-index-core<0.11.0,>=0.10.40->llama-index-graph-stores-neo4j) (3.8.1)\n",
      "Requirement already satisfied: numpy in ./.venv/lib/python3.12/site-packages (from llama-index-core<0.11.0,>=0.10.40->llama-index-graph-stores-neo4j) (1.26.4)\n",
      "Requirement already satisfied: openai>=1.1.0 in ./.venv/lib/python3.12/site-packages (from llama-index-core<0.11.0,>=0.10.40->llama-index-graph-stores-neo4j) (1.30.5)\n",
      "Requirement already satisfied: pandas in ./.venv/lib/python3.12/site-packages (from llama-index-core<0.11.0,>=0.10.40->llama-index-graph-stores-neo4j) (2.2.2)\n",
      "Requirement already satisfied: pillow>=9.0.0 in ./.venv/lib/python3.12/site-packages (from llama-index-core<0.11.0,>=0.10.40->llama-index-graph-stores-neo4j) (10.3.0)\n",
      "Requirement already satisfied: requests>=2.31.0 in ./.venv/lib/python3.12/site-packages (from llama-index-core<0.11.0,>=0.10.40->llama-index-graph-stores-neo4j) (2.32.3)\n",
      "Requirement already satisfied: tenacity<9.0.0,>=8.2.0 in ./.venv/lib/python3.12/site-packages (from llama-index-core<0.11.0,>=0.10.40->llama-index-graph-stores-neo4j) (8.3.0)\n",
      "Requirement already satisfied: tiktoken>=0.3.3 in ./.venv/lib/python3.12/site-packages (from llama-index-core<0.11.0,>=0.10.40->llama-index-graph-stores-neo4j) (0.7.0)\n",
      "Requirement already satisfied: tqdm<5.0.0,>=4.66.1 in ./.venv/lib/python3.12/site-packages (from llama-index-core<0.11.0,>=0.10.40->llama-index-graph-stores-neo4j) (4.66.4)\n",
      "Requirement already satisfied: typing-extensions>=4.5.0 in ./.venv/lib/python3.12/site-packages (from llama-index-core<0.11.0,>=0.10.40->llama-index-graph-stores-neo4j) (4.12.1)\n",
      "Requirement already satisfied: typing-inspect>=0.8.0 in ./.venv/lib/python3.12/site-packages (from llama-index-core<0.11.0,>=0.10.40->llama-index-graph-stores-neo4j) (0.9.0)\n",
      "Requirement already satisfied: wrapt in ./.venv/lib/python3.12/site-packages (from llama-index-core<0.11.0,>=0.10.40->llama-index-graph-stores-neo4j) (1.16.0)\n",
      "Requirement already satisfied: pytz in ./.venv/lib/python3.12/site-packages (from neo4j<6.0.0,>=5.16.0->llama-index-graph-stores-neo4j) (2024.1)\n",
      "Requirement already satisfied: aiosignal>=1.1.2 in ./.venv/lib/python3.12/site-packages (from aiohttp<4.0.0,>=3.8.6->llama-index-core<0.11.0,>=0.10.40->llama-index-graph-stores-neo4j) (1.3.1)\n",
      "Requirement already satisfied: attrs>=17.3.0 in ./.venv/lib/python3.12/site-packages (from aiohttp<4.0.0,>=3.8.6->llama-index-core<0.11.0,>=0.10.40->llama-index-graph-stores-neo4j) (23.2.0)\n",
      "Requirement already satisfied: frozenlist>=1.1.1 in ./.venv/lib/python3.12/site-packages (from aiohttp<4.0.0,>=3.8.6->llama-index-core<0.11.0,>=0.10.40->llama-index-graph-stores-neo4j) (1.4.1)\n",
      "Requirement already satisfied: multidict<7.0,>=4.5 in ./.venv/lib/python3.12/site-packages (from aiohttp<4.0.0,>=3.8.6->llama-index-core<0.11.0,>=0.10.40->llama-index-graph-stores-neo4j) (6.0.5)\n",
      "Requirement already satisfied: yarl<2.0,>=1.0 in ./.venv/lib/python3.12/site-packages (from aiohttp<4.0.0,>=3.8.6->llama-index-core<0.11.0,>=0.10.40->llama-index-graph-stores-neo4j) (1.9.4)\n",
      "Requirement already satisfied: pydantic>=1.10 in ./.venv/lib/python3.12/site-packages (from llamaindex-py-client<0.2.0,>=0.1.18->llama-index-core<0.11.0,>=0.10.40->llama-index-graph-stores-neo4j) (2.7.2)\n",
      "Requirement already satisfied: anyio in ./.venv/lib/python3.12/site-packages (from httpx->llama-index-core<0.11.0,>=0.10.40->llama-index-graph-stores-neo4j) (4.4.0)\n",
      "Requirement already satisfied: certifi in ./.venv/lib/python3.12/site-packages (from httpx->llama-index-core<0.11.0,>=0.10.40->llama-index-graph-stores-neo4j) (2024.6.2)\n",
      "Requirement already satisfied: httpcore==1.* in ./.venv/lib/python3.12/site-packages (from httpx->llama-index-core<0.11.0,>=0.10.40->llama-index-graph-stores-neo4j) (1.0.5)\n",
      "Requirement already satisfied: idna in ./.venv/lib/python3.12/site-packages (from httpx->llama-index-core<0.11.0,>=0.10.40->llama-index-graph-stores-neo4j) (3.7)\n",
      "Requirement already satisfied: sniffio in ./.venv/lib/python3.12/site-packages (from httpx->llama-index-core<0.11.0,>=0.10.40->llama-index-graph-stores-neo4j) (1.3.1)\n",
      "Requirement already satisfied: h11<0.15,>=0.13 in ./.venv/lib/python3.12/site-packages (from httpcore==1.*->httpx->llama-index-core<0.11.0,>=0.10.40->llama-index-graph-stores-neo4j) (0.14.0)\n",
      "Requirement already satisfied: click in ./.venv/lib/python3.12/site-packages (from nltk<4.0.0,>=3.8.1->llama-index-core<0.11.0,>=0.10.40->llama-index-graph-stores-neo4j) (8.1.7)\n",
      "Requirement already satisfied: joblib in ./.venv/lib/python3.12/site-packages (from nltk<4.0.0,>=3.8.1->llama-index-core<0.11.0,>=0.10.40->llama-index-graph-stores-neo4j) (1.4.2)\n",
      "Requirement already satisfied: regex>=2021.8.3 in ./.venv/lib/python3.12/site-packages (from nltk<4.0.0,>=3.8.1->llama-index-core<0.11.0,>=0.10.40->llama-index-graph-stores-neo4j) (2024.5.15)\n",
      "Requirement already satisfied: distro<2,>=1.7.0 in ./.venv/lib/python3.12/site-packages (from openai>=1.1.0->llama-index-core<0.11.0,>=0.10.40->llama-index-graph-stores-neo4j) (1.9.0)\n",
      "Requirement already satisfied: charset-normalizer<4,>=2 in ./.venv/lib/python3.12/site-packages (from requests>=2.31.0->llama-index-core<0.11.0,>=0.10.40->llama-index-graph-stores-neo4j) (3.3.2)\n",
      "Requirement already satisfied: urllib3<3,>=1.21.1 in ./.venv/lib/python3.12/site-packages (from requests>=2.31.0->llama-index-core<0.11.0,>=0.10.40->llama-index-graph-stores-neo4j) (2.2.1)\n",
      "Requirement already satisfied: greenlet!=0.4.17 in ./.venv/lib/python3.12/site-packages (from SQLAlchemy[asyncio]>=1.4.49->llama-index-core<0.11.0,>=0.10.40->llama-index-graph-stores-neo4j) (3.0.3)\n",
      "Requirement already satisfied: mypy-extensions>=0.3.0 in ./.venv/lib/python3.12/site-packages (from typing-inspect>=0.8.0->llama-index-core<0.11.0,>=0.10.40->llama-index-graph-stores-neo4j) (1.0.0)\n",
      "Requirement already satisfied: marshmallow<4.0.0,>=3.18.0 in ./.venv/lib/python3.12/site-packages (from dataclasses-json->llama-index-core<0.11.0,>=0.10.40->llama-index-graph-stores-neo4j) (3.21.2)\n",
      "Requirement already satisfied: python-dateutil>=2.8.2 in ./.venv/lib/python3.12/site-packages (from pandas->llama-index-core<0.11.0,>=0.10.40->llama-index-graph-stores-neo4j) (2.9.0.post0)\n",
      "Requirement already satisfied: tzdata>=2022.7 in ./.venv/lib/python3.12/site-packages (from pandas->llama-index-core<0.11.0,>=0.10.40->llama-index-graph-stores-neo4j) (2024.1)\n",
      "Requirement already satisfied: packaging>=17.0 in ./.venv/lib/python3.12/site-packages (from marshmallow<4.0.0,>=3.18.0->dataclasses-json->llama-index-core<0.11.0,>=0.10.40->llama-index-graph-stores-neo4j) (24.0)\n",
      "Requirement already satisfied: annotated-types>=0.4.0 in ./.venv/lib/python3.12/site-packages (from pydantic>=1.10->llamaindex-py-client<0.2.0,>=0.1.18->llama-index-core<0.11.0,>=0.10.40->llama-index-graph-stores-neo4j) (0.7.0)\n",
      "Requirement already satisfied: pydantic-core==2.18.3 in ./.venv/lib/python3.12/site-packages (from pydantic>=1.10->llamaindex-py-client<0.2.0,>=0.1.18->llama-index-core<0.11.0,>=0.10.40->llama-index-graph-stores-neo4j) (2.18.3)\n",
      "Requirement already satisfied: six>=1.5 in ./.venv/lib/python3.12/site-packages (from python-dateutil>=2.8.2->pandas->llama-index-core<0.11.0,>=0.10.40->llama-index-graph-stores-neo4j) (1.16.0)\n",
      "Note: you may need to restart the kernel to use updated packages.\n",
      "Requirement already satisfied: llama-index-postprocessor-cohere-rerank in ./.venv/lib/python3.12/site-packages (0.1.7)\n",
      "Requirement already satisfied: cohere<6.0.0,>=5.1.1 in ./.venv/lib/python3.12/site-packages (from llama-index-postprocessor-cohere-rerank) (5.5.4)\n",
      "Requirement already satisfied: llama-index-core<0.11.0,>=0.10.41 in ./.venv/lib/python3.12/site-packages (from llama-index-postprocessor-cohere-rerank) (0.10.42)\n",
      "Requirement already satisfied: boto3<2.0.0,>=1.34.0 in ./.venv/lib/python3.12/site-packages (from cohere<6.0.0,>=5.1.1->llama-index-postprocessor-cohere-rerank) (1.34.117)\n",
      "Requirement already satisfied: fastavro<2.0.0,>=1.9.4 in ./.venv/lib/python3.12/site-packages (from cohere<6.0.0,>=5.1.1->llama-index-postprocessor-cohere-rerank) (1.9.4)\n",
      "Requirement already satisfied: httpx>=0.21.2 in ./.venv/lib/python3.12/site-packages (from cohere<6.0.0,>=5.1.1->llama-index-postprocessor-cohere-rerank) (0.27.0)\n",
      "Requirement already satisfied: httpx-sse<0.5.0,>=0.4.0 in ./.venv/lib/python3.12/site-packages (from cohere<6.0.0,>=5.1.1->llama-index-postprocessor-cohere-rerank) (0.4.0)\n",
      "Requirement already satisfied: pydantic>=1.9.2 in ./.venv/lib/python3.12/site-packages (from cohere<6.0.0,>=5.1.1->llama-index-postprocessor-cohere-rerank) (2.7.2)\n",
      "Requirement already satisfied: requests<3.0.0,>=2.0.0 in ./.venv/lib/python3.12/site-packages (from cohere<6.0.0,>=5.1.1->llama-index-postprocessor-cohere-rerank) (2.32.3)\n",
      "Requirement already satisfied: tokenizers<0.16,>=0.15 in ./.venv/lib/python3.12/site-packages (from cohere<6.0.0,>=5.1.1->llama-index-postprocessor-cohere-rerank) (0.15.2)\n",
      "Requirement already satisfied: types-requests<3.0.0,>=2.0.0 in ./.venv/lib/python3.12/site-packages (from cohere<6.0.0,>=5.1.1->llama-index-postprocessor-cohere-rerank) (2.32.0.20240602)\n",
      "Requirement already satisfied: typing_extensions>=4.0.0 in ./.venv/lib/python3.12/site-packages (from cohere<6.0.0,>=5.1.1->llama-index-postprocessor-cohere-rerank) (4.12.1)\n",
      "Requirement already satisfied: PyYAML>=6.0.1 in ./.venv/lib/python3.12/site-packages (from llama-index-core<0.11.0,>=0.10.41->llama-index-postprocessor-cohere-rerank) (6.0.1)\n",
      "Requirement already satisfied: SQLAlchemy>=1.4.49 in ./.venv/lib/python3.12/site-packages (from SQLAlchemy[asyncio]>=1.4.49->llama-index-core<0.11.0,>=0.10.41->llama-index-postprocessor-cohere-rerank) (2.0.30)\n",
      "Requirement already satisfied: aiohttp<4.0.0,>=3.8.6 in ./.venv/lib/python3.12/site-packages (from llama-index-core<0.11.0,>=0.10.41->llama-index-postprocessor-cohere-rerank) (3.9.5)\n",
      "Requirement already satisfied: dataclasses-json in ./.venv/lib/python3.12/site-packages (from llama-index-core<0.11.0,>=0.10.41->llama-index-postprocessor-cohere-rerank) (0.6.6)\n",
      "Requirement already satisfied: deprecated>=1.2.9.3 in ./.venv/lib/python3.12/site-packages (from llama-index-core<0.11.0,>=0.10.41->llama-index-postprocessor-cohere-rerank) (1.2.14)\n",
      "Requirement already satisfied: dirtyjson<2.0.0,>=1.0.8 in ./.venv/lib/python3.12/site-packages (from llama-index-core<0.11.0,>=0.10.41->llama-index-postprocessor-cohere-rerank) (1.0.8)\n",
      "Requirement already satisfied: fsspec>=2023.5.0 in ./.venv/lib/python3.12/site-packages (from llama-index-core<0.11.0,>=0.10.41->llama-index-postprocessor-cohere-rerank) (2024.5.0)\n",
      "Requirement already satisfied: llamaindex-py-client<0.2.0,>=0.1.18 in ./.venv/lib/python3.12/site-packages (from llama-index-core<0.11.0,>=0.10.41->llama-index-postprocessor-cohere-rerank) (0.1.19)\n",
      "Requirement already satisfied: nest-asyncio<2.0.0,>=1.5.8 in ./.venv/lib/python3.12/site-packages (from llama-index-core<0.11.0,>=0.10.41->llama-index-postprocessor-cohere-rerank) (1.6.0)\n",
      "Requirement already satisfied: networkx>=3.0 in ./.venv/lib/python3.12/site-packages (from llama-index-core<0.11.0,>=0.10.41->llama-index-postprocessor-cohere-rerank) (3.3)\n",
      "Requirement already satisfied: nltk<4.0.0,>=3.8.1 in ./.venv/lib/python3.12/site-packages (from llama-index-core<0.11.0,>=0.10.41->llama-index-postprocessor-cohere-rerank) (3.8.1)\n",
      "Requirement already satisfied: numpy in ./.venv/lib/python3.12/site-packages (from llama-index-core<0.11.0,>=0.10.41->llama-index-postprocessor-cohere-rerank) (1.26.4)\n",
      "Requirement already satisfied: openai>=1.1.0 in ./.venv/lib/python3.12/site-packages (from llama-index-core<0.11.0,>=0.10.41->llama-index-postprocessor-cohere-rerank) (1.30.5)\n",
      "Requirement already satisfied: pandas in ./.venv/lib/python3.12/site-packages (from llama-index-core<0.11.0,>=0.10.41->llama-index-postprocessor-cohere-rerank) (2.2.2)\n",
      "Requirement already satisfied: pillow>=9.0.0 in ./.venv/lib/python3.12/site-packages (from llama-index-core<0.11.0,>=0.10.41->llama-index-postprocessor-cohere-rerank) (10.3.0)\n",
      "Requirement already satisfied: tenacity<9.0.0,>=8.2.0 in ./.venv/lib/python3.12/site-packages (from llama-index-core<0.11.0,>=0.10.41->llama-index-postprocessor-cohere-rerank) (8.3.0)\n",
      "Requirement already satisfied: tiktoken>=0.3.3 in ./.venv/lib/python3.12/site-packages (from llama-index-core<0.11.0,>=0.10.41->llama-index-postprocessor-cohere-rerank) (0.7.0)\n",
      "Requirement already satisfied: tqdm<5.0.0,>=4.66.1 in ./.venv/lib/python3.12/site-packages (from llama-index-core<0.11.0,>=0.10.41->llama-index-postprocessor-cohere-rerank) (4.66.4)\n",
      "Requirement already satisfied: typing-inspect>=0.8.0 in ./.venv/lib/python3.12/site-packages (from llama-index-core<0.11.0,>=0.10.41->llama-index-postprocessor-cohere-rerank) (0.9.0)\n",
      "Requirement already satisfied: wrapt in ./.venv/lib/python3.12/site-packages (from llama-index-core<0.11.0,>=0.10.41->llama-index-postprocessor-cohere-rerank) (1.16.0)\n",
      "Requirement already satisfied: aiosignal>=1.1.2 in ./.venv/lib/python3.12/site-packages (from aiohttp<4.0.0,>=3.8.6->llama-index-core<0.11.0,>=0.10.41->llama-index-postprocessor-cohere-rerank) (1.3.1)\n",
      "Requirement already satisfied: attrs>=17.3.0 in ./.venv/lib/python3.12/site-packages (from aiohttp<4.0.0,>=3.8.6->llama-index-core<0.11.0,>=0.10.41->llama-index-postprocessor-cohere-rerank) (23.2.0)\n",
      "Requirement already satisfied: frozenlist>=1.1.1 in ./.venv/lib/python3.12/site-packages (from aiohttp<4.0.0,>=3.8.6->llama-index-core<0.11.0,>=0.10.41->llama-index-postprocessor-cohere-rerank) (1.4.1)\n",
      "Requirement already satisfied: multidict<7.0,>=4.5 in ./.venv/lib/python3.12/site-packages (from aiohttp<4.0.0,>=3.8.6->llama-index-core<0.11.0,>=0.10.41->llama-index-postprocessor-cohere-rerank) (6.0.5)\n",
      "Requirement already satisfied: yarl<2.0,>=1.0 in ./.venv/lib/python3.12/site-packages (from aiohttp<4.0.0,>=3.8.6->llama-index-core<0.11.0,>=0.10.41->llama-index-postprocessor-cohere-rerank) (1.9.4)\n",
      "Requirement already satisfied: botocore<1.35.0,>=1.34.117 in ./.venv/lib/python3.12/site-packages (from boto3<2.0.0,>=1.34.0->cohere<6.0.0,>=5.1.1->llama-index-postprocessor-cohere-rerank) (1.34.117)\n",
      "Requirement already satisfied: jmespath<2.0.0,>=0.7.1 in ./.venv/lib/python3.12/site-packages (from boto3<2.0.0,>=1.34.0->cohere<6.0.0,>=5.1.1->llama-index-postprocessor-cohere-rerank) (1.0.1)\n",
      "Requirement already satisfied: s3transfer<0.11.0,>=0.10.0 in ./.venv/lib/python3.12/site-packages (from boto3<2.0.0,>=1.34.0->cohere<6.0.0,>=5.1.1->llama-index-postprocessor-cohere-rerank) (0.10.1)\n",
      "Requirement already satisfied: anyio in ./.venv/lib/python3.12/site-packages (from httpx>=0.21.2->cohere<6.0.0,>=5.1.1->llama-index-postprocessor-cohere-rerank) (4.4.0)\n",
      "Requirement already satisfied: certifi in ./.venv/lib/python3.12/site-packages (from httpx>=0.21.2->cohere<6.0.0,>=5.1.1->llama-index-postprocessor-cohere-rerank) (2024.6.2)\n",
      "Requirement already satisfied: httpcore==1.* in ./.venv/lib/python3.12/site-packages (from httpx>=0.21.2->cohere<6.0.0,>=5.1.1->llama-index-postprocessor-cohere-rerank) (1.0.5)\n",
      "Requirement already satisfied: idna in ./.venv/lib/python3.12/site-packages (from httpx>=0.21.2->cohere<6.0.0,>=5.1.1->llama-index-postprocessor-cohere-rerank) (3.7)\n",
      "Requirement already satisfied: sniffio in ./.venv/lib/python3.12/site-packages (from httpx>=0.21.2->cohere<6.0.0,>=5.1.1->llama-index-postprocessor-cohere-rerank) (1.3.1)\n",
      "Requirement already satisfied: h11<0.15,>=0.13 in ./.venv/lib/python3.12/site-packages (from httpcore==1.*->httpx>=0.21.2->cohere<6.0.0,>=5.1.1->llama-index-postprocessor-cohere-rerank) (0.14.0)\n",
      "Requirement already satisfied: click in ./.venv/lib/python3.12/site-packages (from nltk<4.0.0,>=3.8.1->llama-index-core<0.11.0,>=0.10.41->llama-index-postprocessor-cohere-rerank) (8.1.7)\n",
      "Requirement already satisfied: joblib in ./.venv/lib/python3.12/site-packages (from nltk<4.0.0,>=3.8.1->llama-index-core<0.11.0,>=0.10.41->llama-index-postprocessor-cohere-rerank) (1.4.2)\n",
      "Requirement already satisfied: regex>=2021.8.3 in ./.venv/lib/python3.12/site-packages (from nltk<4.0.0,>=3.8.1->llama-index-core<0.11.0,>=0.10.41->llama-index-postprocessor-cohere-rerank) (2024.5.15)\n",
      "Requirement already satisfied: distro<2,>=1.7.0 in ./.venv/lib/python3.12/site-packages (from openai>=1.1.0->llama-index-core<0.11.0,>=0.10.41->llama-index-postprocessor-cohere-rerank) (1.9.0)\n",
      "Requirement already satisfied: annotated-types>=0.4.0 in ./.venv/lib/python3.12/site-packages (from pydantic>=1.9.2->cohere<6.0.0,>=5.1.1->llama-index-postprocessor-cohere-rerank) (0.7.0)\n",
      "Requirement already satisfied: pydantic-core==2.18.3 in ./.venv/lib/python3.12/site-packages (from pydantic>=1.9.2->cohere<6.0.0,>=5.1.1->llama-index-postprocessor-cohere-rerank) (2.18.3)\n",
      "Requirement already satisfied: charset-normalizer<4,>=2 in ./.venv/lib/python3.12/site-packages (from requests<3.0.0,>=2.0.0->cohere<6.0.0,>=5.1.1->llama-index-postprocessor-cohere-rerank) (3.3.2)\n",
      "Requirement already satisfied: urllib3<3,>=1.21.1 in ./.venv/lib/python3.12/site-packages (from requests<3.0.0,>=2.0.0->cohere<6.0.0,>=5.1.1->llama-index-postprocessor-cohere-rerank) (2.2.1)\n",
      "Requirement already satisfied: greenlet!=0.4.17 in ./.venv/lib/python3.12/site-packages (from SQLAlchemy[asyncio]>=1.4.49->llama-index-core<0.11.0,>=0.10.41->llama-index-postprocessor-cohere-rerank) (3.0.3)\n",
      "Requirement already satisfied: huggingface_hub<1.0,>=0.16.4 in ./.venv/lib/python3.12/site-packages (from tokenizers<0.16,>=0.15->cohere<6.0.0,>=5.1.1->llama-index-postprocessor-cohere-rerank) (0.23.2)\n",
      "Requirement already satisfied: mypy-extensions>=0.3.0 in ./.venv/lib/python3.12/site-packages (from typing-inspect>=0.8.0->llama-index-core<0.11.0,>=0.10.41->llama-index-postprocessor-cohere-rerank) (1.0.0)\n",
      "Requirement already satisfied: marshmallow<4.0.0,>=3.18.0 in ./.venv/lib/python3.12/site-packages (from dataclasses-json->llama-index-core<0.11.0,>=0.10.41->llama-index-postprocessor-cohere-rerank) (3.21.2)\n",
      "Requirement already satisfied: python-dateutil>=2.8.2 in ./.venv/lib/python3.12/site-packages (from pandas->llama-index-core<0.11.0,>=0.10.41->llama-index-postprocessor-cohere-rerank) (2.9.0.post0)\n",
      "Requirement already satisfied: pytz>=2020.1 in ./.venv/lib/python3.12/site-packages (from pandas->llama-index-core<0.11.0,>=0.10.41->llama-index-postprocessor-cohere-rerank) (2024.1)\n",
      "Requirement already satisfied: tzdata>=2022.7 in ./.venv/lib/python3.12/site-packages (from pandas->llama-index-core<0.11.0,>=0.10.41->llama-index-postprocessor-cohere-rerank) (2024.1)\n",
      "Requirement already satisfied: filelock in ./.venv/lib/python3.12/site-packages (from huggingface_hub<1.0,>=0.16.4->tokenizers<0.16,>=0.15->cohere<6.0.0,>=5.1.1->llama-index-postprocessor-cohere-rerank) (3.14.0)\n",
      "Requirement already satisfied: packaging>=20.9 in ./.venv/lib/python3.12/site-packages (from huggingface_hub<1.0,>=0.16.4->tokenizers<0.16,>=0.15->cohere<6.0.0,>=5.1.1->llama-index-postprocessor-cohere-rerank) (24.0)\n",
      "Requirement already satisfied: six>=1.5 in ./.venv/lib/python3.12/site-packages (from python-dateutil>=2.8.2->pandas->llama-index-core<0.11.0,>=0.10.41->llama-index-postprocessor-cohere-rerank) (1.16.0)\n",
      "Note: you may need to restart the kernel to use updated packages.\n",
      "Requirement already satisfied: llmsherpa in ./.venv/lib/python3.12/site-packages (0.1.4)\n",
      "Requirement already satisfied: urllib3 in ./.venv/lib/python3.12/site-packages (from llmsherpa) (2.2.1)\n",
      "Note: you may need to restart the kernel to use updated packages.\n",
      "Requirement already satisfied: llama-index-embeddings-huggingface in ./.venv/lib/python3.12/site-packages (0.2.1)\n",
      "Requirement already satisfied: huggingface-hub>=0.19.0 in ./.venv/lib/python3.12/site-packages (from huggingface-hub[inference]>=0.19.0->llama-index-embeddings-huggingface) (0.23.2)\n",
      "Requirement already satisfied: llama-index-core<0.11.0,>=0.10.1 in ./.venv/lib/python3.12/site-packages (from llama-index-embeddings-huggingface) (0.10.42)\n",
      "Requirement already satisfied: sentence-transformers<3.0.0,>=2.6.1 in ./.venv/lib/python3.12/site-packages (from llama-index-embeddings-huggingface) (2.7.0)\n",
      "Requirement already satisfied: filelock in ./.venv/lib/python3.12/site-packages (from huggingface-hub>=0.19.0->huggingface-hub[inference]>=0.19.0->llama-index-embeddings-huggingface) (3.14.0)\n",
      "Requirement already satisfied: fsspec>=2023.5.0 in ./.venv/lib/python3.12/site-packages (from huggingface-hub>=0.19.0->huggingface-hub[inference]>=0.19.0->llama-index-embeddings-huggingface) (2024.5.0)\n",
      "Requirement already satisfied: packaging>=20.9 in ./.venv/lib/python3.12/site-packages (from huggingface-hub>=0.19.0->huggingface-hub[inference]>=0.19.0->llama-index-embeddings-huggingface) (24.0)\n",
      "Requirement already satisfied: pyyaml>=5.1 in ./.venv/lib/python3.12/site-packages (from huggingface-hub>=0.19.0->huggingface-hub[inference]>=0.19.0->llama-index-embeddings-huggingface) (6.0.1)\n",
      "Requirement already satisfied: requests in ./.venv/lib/python3.12/site-packages (from huggingface-hub>=0.19.0->huggingface-hub[inference]>=0.19.0->llama-index-embeddings-huggingface) (2.32.3)\n",
      "Requirement already satisfied: tqdm>=4.42.1 in ./.venv/lib/python3.12/site-packages (from huggingface-hub>=0.19.0->huggingface-hub[inference]>=0.19.0->llama-index-embeddings-huggingface) (4.66.4)\n",
      "Requirement already satisfied: typing-extensions>=3.7.4.3 in ./.venv/lib/python3.12/site-packages (from huggingface-hub>=0.19.0->huggingface-hub[inference]>=0.19.0->llama-index-embeddings-huggingface) (4.12.1)\n",
      "Requirement already satisfied: aiohttp in ./.venv/lib/python3.12/site-packages (from huggingface-hub[inference]>=0.19.0->llama-index-embeddings-huggingface) (3.9.5)\n",
      "Requirement already satisfied: minijinja>=1.0 in ./.venv/lib/python3.12/site-packages (from huggingface-hub[inference]>=0.19.0->llama-index-embeddings-huggingface) (2.0.1)\n",
      "Requirement already satisfied: SQLAlchemy>=1.4.49 in ./.venv/lib/python3.12/site-packages (from SQLAlchemy[asyncio]>=1.4.49->llama-index-core<0.11.0,>=0.10.1->llama-index-embeddings-huggingface) (2.0.30)\n",
      "Requirement already satisfied: dataclasses-json in ./.venv/lib/python3.12/site-packages (from llama-index-core<0.11.0,>=0.10.1->llama-index-embeddings-huggingface) (0.6.6)\n",
      "Requirement already satisfied: deprecated>=1.2.9.3 in ./.venv/lib/python3.12/site-packages (from llama-index-core<0.11.0,>=0.10.1->llama-index-embeddings-huggingface) (1.2.14)\n",
      "Requirement already satisfied: dirtyjson<2.0.0,>=1.0.8 in ./.venv/lib/python3.12/site-packages (from llama-index-core<0.11.0,>=0.10.1->llama-index-embeddings-huggingface) (1.0.8)\n",
      "Requirement already satisfied: httpx in ./.venv/lib/python3.12/site-packages (from llama-index-core<0.11.0,>=0.10.1->llama-index-embeddings-huggingface) (0.27.0)\n",
      "Requirement already satisfied: llamaindex-py-client<0.2.0,>=0.1.18 in ./.venv/lib/python3.12/site-packages (from llama-index-core<0.11.0,>=0.10.1->llama-index-embeddings-huggingface) (0.1.19)\n",
      "Requirement already satisfied: nest-asyncio<2.0.0,>=1.5.8 in ./.venv/lib/python3.12/site-packages (from llama-index-core<0.11.0,>=0.10.1->llama-index-embeddings-huggingface) (1.6.0)\n",
      "Requirement already satisfied: networkx>=3.0 in ./.venv/lib/python3.12/site-packages (from llama-index-core<0.11.0,>=0.10.1->llama-index-embeddings-huggingface) (3.3)\n",
      "Requirement already satisfied: nltk<4.0.0,>=3.8.1 in ./.venv/lib/python3.12/site-packages (from llama-index-core<0.11.0,>=0.10.1->llama-index-embeddings-huggingface) (3.8.1)\n",
      "Requirement already satisfied: numpy in ./.venv/lib/python3.12/site-packages (from llama-index-core<0.11.0,>=0.10.1->llama-index-embeddings-huggingface) (1.26.4)\n",
      "Requirement already satisfied: openai>=1.1.0 in ./.venv/lib/python3.12/site-packages (from llama-index-core<0.11.0,>=0.10.1->llama-index-embeddings-huggingface) (1.30.5)\n",
      "Requirement already satisfied: pandas in ./.venv/lib/python3.12/site-packages (from llama-index-core<0.11.0,>=0.10.1->llama-index-embeddings-huggingface) (2.2.2)\n",
      "Requirement already satisfied: pillow>=9.0.0 in ./.venv/lib/python3.12/site-packages (from llama-index-core<0.11.0,>=0.10.1->llama-index-embeddings-huggingface) (10.3.0)\n",
      "Requirement already satisfied: tenacity<9.0.0,>=8.2.0 in ./.venv/lib/python3.12/site-packages (from llama-index-core<0.11.0,>=0.10.1->llama-index-embeddings-huggingface) (8.3.0)\n",
      "Requirement already satisfied: tiktoken>=0.3.3 in ./.venv/lib/python3.12/site-packages (from llama-index-core<0.11.0,>=0.10.1->llama-index-embeddings-huggingface) (0.7.0)\n",
      "Requirement already satisfied: typing-inspect>=0.8.0 in ./.venv/lib/python3.12/site-packages (from llama-index-core<0.11.0,>=0.10.1->llama-index-embeddings-huggingface) (0.9.0)\n",
      "Requirement already satisfied: wrapt in ./.venv/lib/python3.12/site-packages (from llama-index-core<0.11.0,>=0.10.1->llama-index-embeddings-huggingface) (1.16.0)\n",
      "Requirement already satisfied: transformers<5.0.0,>=4.34.0 in ./.venv/lib/python3.12/site-packages (from sentence-transformers<3.0.0,>=2.6.1->llama-index-embeddings-huggingface) (4.41.2)\n",
      "Requirement already satisfied: torch>=1.11.0 in ./.venv/lib/python3.12/site-packages (from sentence-transformers<3.0.0,>=2.6.1->llama-index-embeddings-huggingface) (2.3.0)\n",
      "Requirement already satisfied: scikit-learn in ./.venv/lib/python3.12/site-packages (from sentence-transformers<3.0.0,>=2.6.1->llama-index-embeddings-huggingface) (1.5.0)\n",
      "Requirement already satisfied: scipy in ./.venv/lib/python3.12/site-packages (from sentence-transformers<3.0.0,>=2.6.1->llama-index-embeddings-huggingface) (1.13.1)\n",
      "Requirement already satisfied: aiosignal>=1.1.2 in ./.venv/lib/python3.12/site-packages (from aiohttp->huggingface-hub[inference]>=0.19.0->llama-index-embeddings-huggingface) (1.3.1)\n",
      "Requirement already satisfied: attrs>=17.3.0 in ./.venv/lib/python3.12/site-packages (from aiohttp->huggingface-hub[inference]>=0.19.0->llama-index-embeddings-huggingface) (23.2.0)\n",
      "Requirement already satisfied: frozenlist>=1.1.1 in ./.venv/lib/python3.12/site-packages (from aiohttp->huggingface-hub[inference]>=0.19.0->llama-index-embeddings-huggingface) (1.4.1)\n",
      "Requirement already satisfied: multidict<7.0,>=4.5 in ./.venv/lib/python3.12/site-packages (from aiohttp->huggingface-hub[inference]>=0.19.0->llama-index-embeddings-huggingface) (6.0.5)\n",
      "Requirement already satisfied: yarl<2.0,>=1.0 in ./.venv/lib/python3.12/site-packages (from aiohttp->huggingface-hub[inference]>=0.19.0->llama-index-embeddings-huggingface) (1.9.4)\n",
      "Requirement already satisfied: pydantic>=1.10 in ./.venv/lib/python3.12/site-packages (from llamaindex-py-client<0.2.0,>=0.1.18->llama-index-core<0.11.0,>=0.10.1->llama-index-embeddings-huggingface) (2.7.2)\n",
      "Requirement already satisfied: anyio in ./.venv/lib/python3.12/site-packages (from httpx->llama-index-core<0.11.0,>=0.10.1->llama-index-embeddings-huggingface) (4.4.0)\n",
      "Requirement already satisfied: certifi in ./.venv/lib/python3.12/site-packages (from httpx->llama-index-core<0.11.0,>=0.10.1->llama-index-embeddings-huggingface) (2024.6.2)\n",
      "Requirement already satisfied: httpcore==1.* in ./.venv/lib/python3.12/site-packages (from httpx->llama-index-core<0.11.0,>=0.10.1->llama-index-embeddings-huggingface) (1.0.5)\n",
      "Requirement already satisfied: idna in ./.venv/lib/python3.12/site-packages (from httpx->llama-index-core<0.11.0,>=0.10.1->llama-index-embeddings-huggingface) (3.7)\n",
      "Requirement already satisfied: sniffio in ./.venv/lib/python3.12/site-packages (from httpx->llama-index-core<0.11.0,>=0.10.1->llama-index-embeddings-huggingface) (1.3.1)\n",
      "Requirement already satisfied: h11<0.15,>=0.13 in ./.venv/lib/python3.12/site-packages (from httpcore==1.*->httpx->llama-index-core<0.11.0,>=0.10.1->llama-index-embeddings-huggingface) (0.14.0)\n",
      "Requirement already satisfied: click in ./.venv/lib/python3.12/site-packages (from nltk<4.0.0,>=3.8.1->llama-index-core<0.11.0,>=0.10.1->llama-index-embeddings-huggingface) (8.1.7)\n",
      "Requirement already satisfied: joblib in ./.venv/lib/python3.12/site-packages (from nltk<4.0.0,>=3.8.1->llama-index-core<0.11.0,>=0.10.1->llama-index-embeddings-huggingface) (1.4.2)\n",
      "Requirement already satisfied: regex>=2021.8.3 in ./.venv/lib/python3.12/site-packages (from nltk<4.0.0,>=3.8.1->llama-index-core<0.11.0,>=0.10.1->llama-index-embeddings-huggingface) (2024.5.15)\n",
      "Requirement already satisfied: distro<2,>=1.7.0 in ./.venv/lib/python3.12/site-packages (from openai>=1.1.0->llama-index-core<0.11.0,>=0.10.1->llama-index-embeddings-huggingface) (1.9.0)\n",
      "Requirement already satisfied: charset-normalizer<4,>=2 in ./.venv/lib/python3.12/site-packages (from requests->huggingface-hub>=0.19.0->huggingface-hub[inference]>=0.19.0->llama-index-embeddings-huggingface) (3.3.2)\n",
      "Requirement already satisfied: urllib3<3,>=1.21.1 in ./.venv/lib/python3.12/site-packages (from requests->huggingface-hub>=0.19.0->huggingface-hub[inference]>=0.19.0->llama-index-embeddings-huggingface) (2.2.1)\n",
      "Requirement already satisfied: greenlet!=0.4.17 in ./.venv/lib/python3.12/site-packages (from SQLAlchemy[asyncio]>=1.4.49->llama-index-core<0.11.0,>=0.10.1->llama-index-embeddings-huggingface) (3.0.3)\n",
      "Requirement already satisfied: sympy in ./.venv/lib/python3.12/site-packages (from torch>=1.11.0->sentence-transformers<3.0.0,>=2.6.1->llama-index-embeddings-huggingface) (1.12.1)\n",
      "Requirement already satisfied: jinja2 in ./.venv/lib/python3.12/site-packages (from torch>=1.11.0->sentence-transformers<3.0.0,>=2.6.1->llama-index-embeddings-huggingface) (3.1.4)\n",
      "Collecting tokenizers<0.20,>=0.19 (from transformers<5.0.0,>=4.34.0->sentence-transformers<3.0.0,>=2.6.1->llama-index-embeddings-huggingface)\n",
      "  Using cached tokenizers-0.19.1-cp312-cp312-macosx_11_0_arm64.whl.metadata (6.7 kB)\n",
      "Requirement already satisfied: safetensors>=0.4.1 in ./.venv/lib/python3.12/site-packages (from transformers<5.0.0,>=4.34.0->sentence-transformers<3.0.0,>=2.6.1->llama-index-embeddings-huggingface) (0.4.3)\n",
      "Requirement already satisfied: mypy-extensions>=0.3.0 in ./.venv/lib/python3.12/site-packages (from typing-inspect>=0.8.0->llama-index-core<0.11.0,>=0.10.1->llama-index-embeddings-huggingface) (1.0.0)\n",
      "Requirement already satisfied: marshmallow<4.0.0,>=3.18.0 in ./.venv/lib/python3.12/site-packages (from dataclasses-json->llama-index-core<0.11.0,>=0.10.1->llama-index-embeddings-huggingface) (3.21.2)\n",
      "Requirement already satisfied: python-dateutil>=2.8.2 in ./.venv/lib/python3.12/site-packages (from pandas->llama-index-core<0.11.0,>=0.10.1->llama-index-embeddings-huggingface) (2.9.0.post0)\n",
      "Requirement already satisfied: pytz>=2020.1 in ./.venv/lib/python3.12/site-packages (from pandas->llama-index-core<0.11.0,>=0.10.1->llama-index-embeddings-huggingface) (2024.1)\n",
      "Requirement already satisfied: tzdata>=2022.7 in ./.venv/lib/python3.12/site-packages (from pandas->llama-index-core<0.11.0,>=0.10.1->llama-index-embeddings-huggingface) (2024.1)\n",
      "Requirement already satisfied: threadpoolctl>=3.1.0 in ./.venv/lib/python3.12/site-packages (from scikit-learn->sentence-transformers<3.0.0,>=2.6.1->llama-index-embeddings-huggingface) (3.5.0)\n",
      "Requirement already satisfied: annotated-types>=0.4.0 in ./.venv/lib/python3.12/site-packages (from pydantic>=1.10->llamaindex-py-client<0.2.0,>=0.1.18->llama-index-core<0.11.0,>=0.10.1->llama-index-embeddings-huggingface) (0.7.0)\n",
      "Requirement already satisfied: pydantic-core==2.18.3 in ./.venv/lib/python3.12/site-packages (from pydantic>=1.10->llamaindex-py-client<0.2.0,>=0.1.18->llama-index-core<0.11.0,>=0.10.1->llama-index-embeddings-huggingface) (2.18.3)\n",
      "Requirement already satisfied: six>=1.5 in ./.venv/lib/python3.12/site-packages (from python-dateutil>=2.8.2->pandas->llama-index-core<0.11.0,>=0.10.1->llama-index-embeddings-huggingface) (1.16.0)\n",
      "Requirement already satisfied: MarkupSafe>=2.0 in ./.venv/lib/python3.12/site-packages (from jinja2->torch>=1.11.0->sentence-transformers<3.0.0,>=2.6.1->llama-index-embeddings-huggingface) (2.1.5)\n",
      "Requirement already satisfied: mpmath<1.4.0,>=1.1.0 in ./.venv/lib/python3.12/site-packages (from sympy->torch>=1.11.0->sentence-transformers<3.0.0,>=2.6.1->llama-index-embeddings-huggingface) (1.3.0)\n",
      "Using cached tokenizers-0.19.1-cp312-cp312-macosx_11_0_arm64.whl (2.4 MB)\n",
      "Installing collected packages: tokenizers\n",
      "  Attempting uninstall: tokenizers\n",
      "    Found existing installation: tokenizers 0.15.2\n",
      "    Uninstalling tokenizers-0.15.2:\n",
      "      Successfully uninstalled tokenizers-0.15.2\n",
      "\u001b[31mERROR: pip's dependency resolver does not currently take into account all the packages that are installed. This behaviour is the source of the following dependency conflicts.\n",
      "cohere 5.5.4 requires tokenizers<0.16,>=0.15, but you have tokenizers 0.19.1 which is incompatible.\u001b[0m\u001b[31m\n",
      "\u001b[0mSuccessfully installed tokenizers-0.19.1\n",
      "Note: you may need to restart the kernel to use updated packages.\n"
     ]
    }
   ],
   "source": [
    "%pip install llama-index\n",
    "%pip install llama-index-graph-stores-neo4j\n",
    "%pip install llama-index-postprocessor-cohere-rerank\n",
    "%pip install llmsherpa\n",
    "%pip install llama-index-embeddings-huggingface\n"
   ]
  },
  {
   "cell_type": "code",
   "execution_count": 2,
   "metadata": {},
   "outputs": [],
   "source": [
    "import nest_asyncio\n",
    "\n",
    "nest_asyncio.apply()"
   ]
  },
  {
   "cell_type": "code",
   "execution_count": 3,
   "metadata": {},
   "outputs": [],
   "source": [
    "import os\n",
    "\n",
    "os.environ[\"OPENAI_API_KEY\"] = (\n",
    "    \"sk-proj-\"\n",
    ")"
   ]
  },
  {
   "cell_type": "code",
   "execution_count": 4,
   "metadata": {},
   "outputs": [
    {
     "name": "stderr",
     "output_type": "stream",
     "text": [
      "/Users/holeminhthach/Documents/GitHub/Michael-Exploration/.venv/lib/python3.12/site-packages/tqdm/auto.py:21: TqdmWarning: IProgress not found. Please update jupyter and ipywidgets. See https://ipywidgets.readthedocs.io/en/stable/user_install.html\n",
      "  from .autonotebook import tqdm as notebook_tqdm\n"
     ]
    },
    {
     "name": "stdout",
     "output_type": "stream",
     "text": [
      "./data/pdf/File1.pdf\n"
     ]
    }
   ],
   "source": [
    "import glob\n",
    "from llmsherpa.readers import LayoutPDFReader\n",
    "from llmsherpa.readers.layout_reader import Block\n",
    "from llama_index.core.schema import BaseNode, Document\n",
    "\n",
    "pdf_reader = LayoutPDFReader(\n",
    "    \"https://readers.llmsherpa.com/api/document/developer/parseDocument?renderFormat=all\"\n",
    ")\n",
    "\n",
    "documents = []\n",
    "for file in glob.glob(\"./data/pdf\" + \"/*.pdf\"):\n",
    "    print(file)\n",
    "    doc = pdf_reader.read_pdf(file)\n",
    "    block: Block\n",
    "    for block in doc.chunks():\n",
    "        metadata = {\n",
    "            \"page\": block.page_idx,\n",
    "            \"file_name\": os.path.basename(file),\n",
    "            \"tag\": block.tag,\n",
    "        }\n",
    "        document = Document(text=block.to_context_text(), metadata=metadata)\n",
    "        documents.append(document)"
   ]
  },
  {
   "cell_type": "code",
   "execution_count": 5,
   "metadata": {},
   "outputs": [],
   "source": [
    "from llama_index.core.node_parser import SentenceWindowNodeParser\n",
    "\n",
    "node_parser = SentenceWindowNodeParser.from_defaults(\n",
    "    window_size=3,\n",
    "    window_metadata_key=\"window\",\n",
    "    original_text_metadata_key=\"original_text\",\n",
    ")\n",
    "nodes = node_parser.get_nodes_from_documents(documents)"
   ]
  },
  {
   "cell_type": "code",
   "execution_count": 5,
   "metadata": {},
   "outputs": [
    {
     "name": "stderr",
     "output_type": "stream",
     "text": [
      "/Users/holeminhthach/Documents/GitHub/Michael-Exploration/.venv/lib/python3.12/site-packages/huggingface_hub/file_download.py:1132: FutureWarning: `resume_download` is deprecated and will be removed in version 1.0.0. Downloads always resume when possible. If you want to force a new download, use `force_download=True`.\n",
      "  warnings.warn(\n"
     ]
    }
   ],
   "source": [
    "from llama_index.embeddings.openai import OpenAIEmbedding\n",
    "from llama_index.llms.openai import OpenAI\n",
    "from llama_index.embeddings.huggingface import HuggingFaceEmbedding\n",
    "\n",
    "\n",
    "llm = OpenAI(model=\"gpt-3.5-turbo\", temperature=0)\n",
    "# embed_model = OpenAIEmbedding(model_name=\"text-embedding-3-small\")\n",
    "embed_model = HuggingFaceEmbedding(\n",
    "    model_name=\"ls-da3m0ns/bge_large_medical\"\n",
    ")"
   ]
  },
  {
   "cell_type": "markdown",
   "metadata": {},
   "source": [
    "```\n",
    "docker run \\\n",
    "    -p 7474:7474 -p 7687:7687 \\\n",
    "    -v $PWD/data:/data -v $PWD/plugins:/plugins \\\n",
    "    --name neo4j-apoc \\\n",
    "    -e NEO4J_apoc_export_file_enabled=true \\\n",
    "    -e NEO4J_apoc_import_file_enabled=true \\\n",
    "    -e NEO4J_apoc_import_file_use__neo4j__config=true \\\n",
    "    -e NEO4JLABS_PLUGINS=\\[\\\"apoc\\\"\\] \\\n",
    "    neo4j:latest\n",
    "```"
   ]
  },
  {
   "cell_type": "code",
   "execution_count": 7,
   "metadata": {},
   "outputs": [],
   "source": [
    "from llama_index.graph_stores.neo4j import Neo4jPGStore\n",
    "\n",
    "graph_store = Neo4jPGStore(\n",
    "    username=\"neo4j\",\n",
    "    password=\"llamaindex\",\n",
    "    url=\"bolt://localhost:7687\"\n",
    ")"
   ]
  },
  {
   "cell_type": "code",
   "execution_count": 8,
   "metadata": {},
   "outputs": [
    {
     "name": "stderr",
     "output_type": "stream",
     "text": [
      "Parsing nodes: 100%|██████████| 20/20 [00:00<00:00, 2286.47it/s]\n",
      "Extracting paths from text: 100%|██████████| 24/24 [00:19<00:00,  1.21it/s]\n",
      "Extracting implicit paths: 100%|██████████| 24/24 [00:00<00:00, 17716.17it/s]\n",
      "Generating embeddings: 100%|██████████| 3/3 [00:04<00:00,  1.34s/it]\n",
      "Generating embeddings: 100%|██████████| 32/32 [00:10<00:00,  3.12it/s]\n"
     ]
    }
   ],
   "source": [
    "from llama_index.core import PropertyGraphIndex\n",
    "\n",
    "index = PropertyGraphIndex.from_documents(\n",
    "    documents,\n",
    "    llm=llm,\n",
    "    embed_model=embed_model,\n",
    "    property_graph_store=graph_store,\n",
    "    show_progress=True,\n",
    ")\n",
    "\n",
    "# index = PropertyGraphIndex(\n",
    "#     nodes=nodes,\n",
    "#     llm=llm,\n",
    "#     embed_model=embed_model,\n",
    "#     property_graph_store=graph_store,\n",
    "#     show_progress=True,\n",
    "# )"
   ]
  },
  {
   "cell_type": "code",
   "execution_count": 66,
   "metadata": {},
   "outputs": [],
   "source": [
    "from llama_index.core.retrievers import (\n",
    "    CustomPGRetriever,\n",
    "    VectorContextRetriever,\n",
    "    TextToCypherRetriever,\n",
    ")\n",
    "from llama_index.core.graph_stores import PropertyGraphStore\n",
    "from llama_index.core.vector_stores.types import VectorStore\n",
    "from llama_index.core.embeddings import BaseEmbedding\n",
    "from llama_index.core.prompts import PromptTemplate\n",
    "from llama_index.core.llms import LLM\n",
    "from llama_index.postprocessor.cohere_rerank import CohereRerank\n",
    "\n",
    "\n",
    "from typing import Optional, Any, Union\n",
    "\n",
    "\n",
    "class MyCustomRetriever(CustomPGRetriever):\n",
    "    \"\"\"Custom retriever with cohere reranking.\"\"\"\n",
    "\n",
    "    def init(\n",
    "        self,\n",
    "        ## vector context retriever params\n",
    "        embed_model: Optional[BaseEmbedding] = None,\n",
    "        vector_store: Optional[VectorStore] = None,\n",
    "        similarity_top_k: int = 4,\n",
    "        path_depth: int = 1,\n",
    "        ## text-to-cypher params\n",
    "        llm: Optional[LLM] = None,\n",
    "        text_to_cypher_template: Optional[Union[PromptTemplate, str]] = None,\n",
    "        ## cohere reranker params\n",
    "        cohere_api_key: Optional[str] = None,\n",
    "        cohere_top_n: int = 2,\n",
    "        **kwargs: Any,\n",
    "    ) -> None:\n",
    "        \"\"\"Uses any kwargs passed in from class constructor.\"\"\"\n",
    "\n",
    "        self.vector_retriever = VectorContextRetriever(\n",
    "            self.graph_store,\n",
    "            include_text=self.include_text,\n",
    "            embed_model=embed_model,\n",
    "            vector_store=vector_store,\n",
    "            similarity_top_k=similarity_top_k,\n",
    "            path_depth=path_depth,\n",
    "        )\n",
    "\n",
    "        self.cypher_retriever = TextToCypherRetriever(\n",
    "            self.graph_store,\n",
    "            llm=llm,\n",
    "            text_to_cypher_template=text_to_cypher_template,\n",
    "            ## NOTE: you can attach other parameters here if you'd like\n",
    "        )\n",
    "\n",
    "        self.reranker = CohereRerank(api_key=cohere_api_key, top_n=cohere_top_n)\n",
    "\n",
    "    def custom_retrieve(self, query_str: str) -> str:\n",
    "        \"\"\"Define custom retriever with reranking.\n",
    "\n",
    "        Could return `str`, `TextNode`, `NodeWithScore`, or a list of those.\n",
    "        \"\"\"\n",
    "        nodes_1 = self.vector_retriever.retrieve(query_str)\n",
    "        # nodes_2 = self.cypher_retriever.retrieve(query_str)\n",
    "        reranked_nodes = self.reranker.postprocess_nodes(\n",
    "            # nodes_1 + nodes_2, query_str=query_str\n",
    "            nodes_1, query_str=query_str\n",
    "        )\n",
    "\n",
    "        ## TMP: please change\n",
    "        final_text = \"\\n\\n\".join(\n",
    "            [n.get_content(metadata_mode=\"llm\") for n in reranked_nodes]\n",
    "            # [n.get_content(metadata_mode=\"llm\") for n in nodes_1]\n",
    "        )\n",
    "\n",
    "        return final_text\n",
    "\n",
    "    # optional async method\n",
    "    # async def acustom_retrieve(self, query_str: str) -> str:\n",
    "    #     ..."
   ]
  },
  {
   "cell_type": "code",
   "execution_count": 64,
   "metadata": {},
   "outputs": [
    {
     "name": "stdout",
     "output_type": "stream",
     "text": [
      "\n"
     ]
    },
    {
     "data": {
      "text/plain": [
       "'Node properties:\\nChunk {embedding: LIST, doc_id: STRING, document_id: STRING, tag: STRING, _node_type: STRING, _node_content: STRING, ref_doc_id: STRING, text: STRING, file_name: STRING, page: INTEGER, id: STRING}\\nentity {id: STRING, file_name: STRING, triplet_source_id: STRING, page: INTEGER, tag: STRING, embedding: LIST, name: STRING}\\nRelationship properties:\\nIs {triplet_source_id: STRING, page: INTEGER, tag: STRING, file_name: STRING}\\nSOURCE {triplet_source_id: STRING, page: INTEGER, tag: STRING, file_name: STRING}\\n0 {triplet_source_id: STRING, page: INTEGER, tag: STRING, file_name: STRING}\\nHas tag {triplet_source_id: STRING, page: INTEGER, tag: STRING, file_name: STRING}\\nIn {triplet_source_id: STRING, page: INTEGER, tag: STRING, file_name: STRING}\\nIs located in {triplet_source_id: STRING, page: INTEGER, tag: STRING, file_name: STRING}\\nIs affiliated with {triplet_source_id: STRING, page: INTEGER, tag: STRING, file_name: STRING}\\nNEXT {triplet_source_id: STRING, page: INTEGER, tag: STRING, file_name: STRING}\\nHas {triplet_source_id: STRING, page: INTEGER, tag: STRING, file_name: STRING}\\nPREVIOUS {triplet_source_id: STRING, page: INTEGER, tag: STRING, file_name: STRING}\\nActs on {triplet_source_id: STRING, page: INTEGER, tag: STRING, file_name: STRING}\\nConfirmed in {triplet_source_id: STRING, page: INTEGER, tag: STRING, file_name: STRING}\\nTreats {triplet_source_id: STRING, page: INTEGER, tag: STRING, file_name: STRING}\\nDiffers from {triplet_source_id: STRING, page: INTEGER, tag: STRING, file_name: STRING}\\nIs released when {triplet_source_id: STRING, page: INTEGER, tag: STRING, file_name: STRING}\\nSynthesized in {triplet_source_id: STRING, page: INTEGER, tag: STRING, file_name: STRING}\\nUsed in {triplet_source_id: STRING, page: INTEGER, tag: STRING, file_name: STRING}\\nReleased when {triplet_source_id: STRING, page: INTEGER, tag: STRING, file_name: STRING}\\nIncreases reabsorption of {triplet_source_id: STRING, page: INTEGER, tag: STRING, file_name: STRING}\\nAssociated with {triplet_source_id: STRING, page: INTEGER, tag: STRING, file_name: STRING}\\nGiven to {triplet_source_id: STRING, page: INTEGER, tag: STRING, file_name: STRING}\\nCompared to {triplet_source_id: STRING, page: INTEGER, tag: STRING, file_name: STRING}\\nExperienced {triplet_source_id: STRING, page: INTEGER, tag: STRING, file_name: STRING}\\nLack of {triplet_source_id: STRING, page: INTEGER, tag: STRING, file_name: STRING}\\nDuring {triplet_source_id: STRING, page: INTEGER, tag: STRING, file_name: STRING}\\nDid not experience {triplet_source_id: STRING, page: INTEGER, tag: STRING, file_name: STRING}\\nHad {triplet_source_id: STRING, page: INTEGER, tag: STRING, file_name: STRING}\\nMay be due to {triplet_source_id: STRING, page: INTEGER, tag: STRING, file_name: STRING}\\nStimulates {triplet_source_id: STRING, page: INTEGER, tag: STRING, file_name: STRING}\\nPlaced in {triplet_source_id: STRING, page: INTEGER, tag: STRING, file_name: STRING}\\nLocated in {triplet_source_id: STRING, page: INTEGER, tag: STRING, file_name: STRING}\\nAfter {triplet_source_id: STRING, page: INTEGER, tag: STRING, file_name: STRING}\\nIs used in {triplet_source_id: STRING, page: INTEGER, tag: STRING, file_name: STRING}\\nReduces {triplet_source_id: STRING, page: INTEGER, tag: STRING, file_name: STRING}\\nCan cause {triplet_source_id: STRING, page: INTEGER, tag: STRING, file_name: STRING}\\nIs needed in {triplet_source_id: STRING, page: INTEGER, tag: STRING, file_name: STRING}\\nShould be taken {triplet_source_id: STRING, page: INTEGER, tag: STRING, file_name: STRING}\\nShould be done in {triplet_source_id: STRING, page: INTEGER, tag: STRING, file_name: STRING}\\nLess than {triplet_source_id: STRING, page: INTEGER, tag: STRING, file_name: STRING}\\nIs classified in {triplet_source_id: STRING, page: INTEGER, tag: STRING, file_name: STRING}\\nDoes not have {triplet_source_id: STRING, page: INTEGER, tag: STRING, file_name: STRING}\\nCeased {triplet_source_id: STRING, page: INTEGER, tag: STRING, file_name: STRING}\\nDemonstrated {triplet_source_id: STRING, page: INTEGER, tag: STRING, file_name: STRING}\\nAllowed to progress to {triplet_source_id: STRING, page: INTEGER, tag: STRING, file_name: STRING}\\nIdentified as {triplet_source_id: STRING, page: INTEGER, tag: STRING, file_name: STRING}\\nAdministered at {triplet_source_id: STRING, page: INTEGER, tag: STRING, file_name: STRING}\\nObserved {triplet_source_id: STRING, page: INTEGER, tag: STRING, file_name: STRING}\\nAnd {triplet_source_id: STRING, page: INTEGER, tag: STRING, file_name: STRING}\\nIndicate {triplet_source_id: STRING, page: INTEGER, tag: STRING, file_name: STRING}\\nRespond to {triplet_source_id: STRING, page: INTEGER, tag: STRING, file_name: STRING}\\nEnrolled in {triplet_source_id: STRING, page: INTEGER, tag: STRING, file_name: STRING}\\nAt least {triplet_source_id: STRING, page: INTEGER, tag: STRING, file_name: STRING}\\nReceiving {triplet_source_id: STRING, page: INTEGER, tag: STRING, file_name: STRING}\\nIncludes {triplet_source_id: STRING, page: INTEGER, tag: STRING, file_name: STRING}\\nPlays role in {triplet_source_id: STRING, page: INTEGER, tag: STRING, file_name: STRING}\\nPublished in {triplet_source_id: STRING, page: INTEGER, tag: STRING, file_name: STRING}\\nEdited by {triplet_source_id: STRING, page: INTEGER, tag: STRING, file_name: STRING}\\nIs about {triplet_source_id: STRING, page: INTEGER, tag: STRING, file_name: STRING}\\nRelated to {triplet_source_id: STRING, page: INTEGER, tag: STRING, file_name: STRING}\\nIs the corresponding author of {triplet_source_id: STRING, page: INTEGER, tag: STRING, file_name: STRING}\\nCan reduce {triplet_source_id: STRING, page: INTEGER, tag: STRING, file_name: STRING}\\nTreated by {triplet_source_id: STRING, page: INTEGER, tag: STRING, file_name: STRING}\\nIs characterized with {triplet_source_id: STRING, page: INTEGER, tag: STRING, file_name: STRING}\\nSuffer from {triplet_source_id: STRING, page: INTEGER, tag: STRING, file_name: STRING}\\nReleased from {triplet_source_id: STRING, page: INTEGER, tag: STRING, file_name: STRING}\\nDrug of choice in {triplet_source_id: STRING, page: INTEGER, tag: STRING, file_name: STRING}\\nSignificantly shortens {triplet_source_id: STRING, page: INTEGER, tag: STRING, file_name: STRING}\\nUseful in {triplet_source_id: STRING, page: INTEGER, tag: STRING, file_name: STRING}\\nStable without {triplet_source_id: STRING, page: INTEGER, tag: STRING, file_name: STRING}\\nHas effects on {triplet_source_id: STRING, page: INTEGER, tag: STRING, file_name: STRING}\\nInduces {triplet_source_id: STRING, page: INTEGER, tag: STRING, file_name: STRING}\\nRises concentration of {triplet_source_id: STRING, page: INTEGER, tag: STRING, file_name: STRING}\\nAre titrated according to {triplet_source_id: STRING, page: INTEGER, tag: STRING, file_name: STRING}\\nCan increase {triplet_source_id: STRING, page: INTEGER, tag: STRING, file_name: STRING}\\nHas resulted in {triplet_source_id: STRING, page: INTEGER, tag: STRING, file_name: STRING}\\nShould be done with {triplet_source_id: STRING, page: INTEGER, tag: STRING, file_name: STRING}\\nShould determine {triplet_source_id: STRING, page: INTEGER, tag: STRING, file_name: STRING}\\nIs needed during {triplet_source_id: STRING, page: INTEGER, tag: STRING, file_name: STRING}\\nAre excreted in {triplet_source_id: STRING, page: INTEGER, tag: STRING, file_name: STRING}\\nHad resolution of {triplet_source_id: STRING, page: INTEGER, tag: STRING, file_name: STRING}\\nAre unable to concentrate {triplet_source_id: STRING, page: INTEGER, tag: STRING, file_name: STRING}\\nMay act {triplet_source_id: STRING, page: INTEGER, tag: STRING, file_name: STRING}\\nEligible to participate in {triplet_source_id: STRING, page: INTEGER, tag: STRING, file_name: STRING}\\nTitrated one week at a time beginning with {triplet_source_id: STRING, page: INTEGER, tag: STRING, file_name: STRING}\\nExtended {triplet_source_id: STRING, page: INTEGER, tag: STRING, file_name: STRING}\\nExcretion {triplet_source_id: STRING, page: INTEGER, tag: STRING, file_name: STRING}\\nSodium {triplet_source_id: STRING, page: INTEGER, tag: STRING, file_name: STRING}\\nDifferent {triplet_source_id: STRING, page: INTEGER, tag: STRING, file_name: STRING}\\nIs drug of choice for {triplet_source_id: STRING, page: INTEGER, tag: STRING, file_name: STRING}\\nResults from {triplet_source_id: STRING, page: INTEGER, tag: STRING, file_name: STRING}\\nDesmopressin for {triplet_source_id: STRING, page: INTEGER, tag: STRING, file_name: STRING}\\nNephrogenic diabetes insipidus {triplet_source_id: STRING, page: INTEGER, tag: STRING, file_name: STRING}\\nDesmopressin {triplet_source_id: STRING, page: INTEGER, tag: STRING, file_name: STRING}\\nOral desmopressin {triplet_source_id: STRING, page: INTEGER, tag: STRING, file_name: STRING}\\nDose titration study {triplet_source_id: STRING, page: INTEGER, tag: STRING, file_name: STRING}\\nDesmopressin resistant enuresis {triplet_source_id: STRING, page: INTEGER, tag: STRING, file_name: STRING}\\nThrombocytopenia {triplet_source_id: STRING, page: INTEGER, tag: STRING, file_name: STRING}\\nCentral nervous {triplet_source_id: STRING, page: INTEGER, tag: STRING, file_name: STRING}\\nThe relationships:\\n(:Chunk)-[:MENTIONS]->(:entity)\\n(:Chunk)-[:NEXT]->(:Chunk)\\n(:Chunk)-[:PREVIOUS]->(:Chunk)\\n(:entity)-[:0]->(:entity)\\n(:entity)-[:Is]->(:entity)\\n(:entity)-[:Has tag]->(:entity)\\n(:entity)-[:Is about]->(:entity)\\n(:entity)-[:Related to]->(:entity)\\n(:entity)-[:Treated by]->(:entity)\\n(:entity)-[:Is characterized with]->(:entity)\\n(:entity)-[:Is located in]->(:entity)\\n(:entity)-[:Is the corresponding author of]->(:entity)\\n(:entity)-[:Is affiliated with]->(:entity)\\n(:entity)-[:Administered at]->(:entity)\\n(:entity)-[:Is used in]->(:entity)\\n(:entity)-[:Reduces]->(:entity)\\n(:entity)-[:Has]->(:entity)\\n(:entity)-[:Can reduce]->(:entity)\\n(:entity)-[:Confirmed in]->(:entity)\\n(:entity)-[:Treats]->(:entity)\\n(:entity)-[:Differs from]->(:entity)\\n(:entity)-[:Plays role in]->(:entity)\\n(:entity)-[:Drug of choice in]->(:entity)\\n(:entity)-[:Significantly shortens]->(:entity)\\n(:entity)-[:Useful in]->(:entity)\\n(:entity)-[:Has effects on]->(:entity)\\n(:entity)-[:Induces]->(:entity)\\n(:entity)-[:Rises concentration of]->(:entity)\\n(:entity)-[:Is classified in]->(:entity)\\n(:entity)-[:Does not have]->(:entity)\\n(:entity)-[:Has resulted in]->(:entity)\\n(:entity)-[:Synthesized in]->(:entity)\\n(:entity)-[:Used in]->(:entity)\\n(:entity)-[:Stimulates]->(:entity)\\n(:entity)-[:May act]->(:entity)\\n(:entity)-[:Is drug of choice for]->(:entity)\\n(:entity)-[:Results from]->(:entity)\\n(:entity)-[:Increases reabsorption of]->(:entity)\\n(:entity)-[:Associated with]->(:entity)\\n(:entity)-[:Given to]->(:entity)\\n(:entity)-[:Experienced]->(:entity)\\n(:entity)-[:Had resolution of]->(:entity)\\n(:entity)-[:Released when]->(:entity)\\n(:entity)-[:Is released when]->(:entity)\\n(:entity)-[:Acts on]->(:entity)\\n(:entity)-[:Eligible to participate in]->(:entity)\\n(:entity)-[:Respond to]->(:entity)\\n(:entity)-[:Suffer from]->(:entity)\\n(:entity)-[:Are unable to concentrate]->(:entity)\\n(:entity)-[:Allowed to progress to]->(:entity)\\n(:entity)-[:Released from]->(:entity)\\n(:entity)-[:Placed in]->(:entity)\\n(:entity)-[:Lack of]->(:entity)\\n(:entity)-[:Stable without]->(:entity)\\n(:entity)-[:Did not experience]->(:entity)\\n(:entity)-[:May be due to]->(:entity)\\n(:entity)-[:Located in]->(:entity)\\n(:entity)-[:Are titrated according to]->(:entity)\\n(:entity)-[:Are excreted in]->(:entity)\\n(:entity)-[:Can cause]->(:entity)\\n(:entity)-[:Can increase]->(:entity)\\n(:entity)-[:Should be taken]->(:entity)\\n(:entity)-[:Is needed during]->(:entity)\\n(:entity)-[:Is needed in]->(:entity)\\n(:entity)-[:Should be done in]->(:entity)\\n(:entity)-[:Should be done with]->(:entity)\\n(:entity)-[:Should determine]->(:entity)\\n(:entity)-[:Had]->(:entity)\\n(:entity)-[:Ceased]->(:entity)\\n(:entity)-[:Demonstrated]->(:entity)\\n(:entity)-[:Indicate]->(:entity)\\n(:entity)-[:Enrolled in]->(:entity)\\n(:entity)-[:Receiving]->(:entity)\\n(:entity)-[:Titrated one week at a time beginning with]->(:entity)\\n(:entity)-[:Identified as]->(:entity)\\n(:entity)-[:Compared to]->(:entity)\\n(:entity)-[:Extended]->(:entity)\\n(:entity)-[:Excretion]->(:entity)\\n(:entity)-[:Sodium]->(:entity)\\n(:entity)-[:Different]->(:entity)\\n(:entity)-[:Observed]->(:entity)\\n(:entity)-[:Less than]->(:entity)\\n(:entity)-[:At least]->(:entity)\\n(:entity)-[:Includes]->(:entity)\\n(:entity)-[:Nephrogenic diabetes insipidus]->(:entity)\\n(:entity)-[:Desmopressin for]->(:entity)\\n(:entity)-[:Edited by]->(:entity)\\n(:entity)-[:Desmopressin]->(:entity)\\n(:entity)-[:Oral desmopressin]->(:entity)\\n(:entity)-[:Dose titration study]->(:entity)\\n(:entity)-[:Desmopressin resistant enuresis]->(:entity)\\n(:entity)-[:Thrombocytopenia]->(:entity)\\n(:entity)-[:Central nervous]->(:entity)\\n(:entity)-[:Published in]->(:entity)\\n(:entity)-[:After]->(:entity)\\n(:entity)-[:During]->(:entity)\\n(:entity)-[:In]->(:entity)\\n(:entity)-[:And]->(:entity)'"
      ]
     },
     "execution_count": 64,
     "metadata": {},
     "output_type": "execute_result"
    }
   ],
   "source": [
    "index.property_graph_store.text_to_cypher_template"
   ]
  },
  {
   "cell_type": "code",
   "execution_count": 65,
   "metadata": {},
   "outputs": [
    {
     "data": {
      "text/plain": [
       "'Node properties:\\nChunk {embedding: LIST, doc_id: STRING, document_id: STRING, tag: STRING, _node_type: STRING, _node_content: STRING, ref_doc_id: STRING, text: STRING, file_name: STRING, page: INTEGER, id: STRING}\\nentity {id: STRING, file_name: STRING, triplet_source_id: STRING, page: INTEGER, tag: STRING, embedding: LIST, name: STRING}\\nRelationship properties:\\nIs {triplet_source_id: STRING, page: INTEGER, tag: STRING, file_name: STRING}\\nSOURCE {triplet_source_id: STRING, page: INTEGER, tag: STRING, file_name: STRING}\\n0 {triplet_source_id: STRING, page: INTEGER, tag: STRING, file_name: STRING}\\nHas tag {triplet_source_id: STRING, page: INTEGER, tag: STRING, file_name: STRING}\\nIn {triplet_source_id: STRING, page: INTEGER, tag: STRING, file_name: STRING}\\nIs located in {triplet_source_id: STRING, page: INTEGER, tag: STRING, file_name: STRING}\\nIs affiliated with {triplet_source_id: STRING, page: INTEGER, tag: STRING, file_name: STRING}\\nNEXT {triplet_source_id: STRING, page: INTEGER, tag: STRING, file_name: STRING}\\nHas {triplet_source_id: STRING, page: INTEGER, tag: STRING, file_name: STRING}\\nPREVIOUS {triplet_source_id: STRING, page: INTEGER, tag: STRING, file_name: STRING}\\nActs on {triplet_source_id: STRING, page: INTEGER, tag: STRING, file_name: STRING}\\nConfirmed in {triplet_source_id: STRING, page: INTEGER, tag: STRING, file_name: STRING}\\nTreats {triplet_source_id: STRING, page: INTEGER, tag: STRING, file_name: STRING}\\nDiffers from {triplet_source_id: STRING, page: INTEGER, tag: STRING, file_name: STRING}\\nIs released when {triplet_source_id: STRING, page: INTEGER, tag: STRING, file_name: STRING}\\nSynthesized in {triplet_source_id: STRING, page: INTEGER, tag: STRING, file_name: STRING}\\nUsed in {triplet_source_id: STRING, page: INTEGER, tag: STRING, file_name: STRING}\\nReleased when {triplet_source_id: STRING, page: INTEGER, tag: STRING, file_name: STRING}\\nIncreases reabsorption of {triplet_source_id: STRING, page: INTEGER, tag: STRING, file_name: STRING}\\nAssociated with {triplet_source_id: STRING, page: INTEGER, tag: STRING, file_name: STRING}\\nGiven to {triplet_source_id: STRING, page: INTEGER, tag: STRING, file_name: STRING}\\nCompared to {triplet_source_id: STRING, page: INTEGER, tag: STRING, file_name: STRING}\\nExperienced {triplet_source_id: STRING, page: INTEGER, tag: STRING, file_name: STRING}\\nLack of {triplet_source_id: STRING, page: INTEGER, tag: STRING, file_name: STRING}\\nDuring {triplet_source_id: STRING, page: INTEGER, tag: STRING, file_name: STRING}\\nDid not experience {triplet_source_id: STRING, page: INTEGER, tag: STRING, file_name: STRING}\\nHad {triplet_source_id: STRING, page: INTEGER, tag: STRING, file_name: STRING}\\nMay be due to {triplet_source_id: STRING, page: INTEGER, tag: STRING, file_name: STRING}\\nStimulates {triplet_source_id: STRING, page: INTEGER, tag: STRING, file_name: STRING}\\nPlaced in {triplet_source_id: STRING, page: INTEGER, tag: STRING, file_name: STRING}\\nLocated in {triplet_source_id: STRING, page: INTEGER, tag: STRING, file_name: STRING}\\nAfter {triplet_source_id: STRING, page: INTEGER, tag: STRING, file_name: STRING}\\nIs used in {triplet_source_id: STRING, page: INTEGER, tag: STRING, file_name: STRING}\\nReduces {triplet_source_id: STRING, page: INTEGER, tag: STRING, file_name: STRING}\\nCan cause {triplet_source_id: STRING, page: INTEGER, tag: STRING, file_name: STRING}\\nIs needed in {triplet_source_id: STRING, page: INTEGER, tag: STRING, file_name: STRING}\\nShould be taken {triplet_source_id: STRING, page: INTEGER, tag: STRING, file_name: STRING}\\nShould be done in {triplet_source_id: STRING, page: INTEGER, tag: STRING, file_name: STRING}\\nLess than {triplet_source_id: STRING, page: INTEGER, tag: STRING, file_name: STRING}\\nIs classified in {triplet_source_id: STRING, page: INTEGER, tag: STRING, file_name: STRING}\\nDoes not have {triplet_source_id: STRING, page: INTEGER, tag: STRING, file_name: STRING}\\nCeased {triplet_source_id: STRING, page: INTEGER, tag: STRING, file_name: STRING}\\nDemonstrated {triplet_source_id: STRING, page: INTEGER, tag: STRING, file_name: STRING}\\nAllowed to progress to {triplet_source_id: STRING, page: INTEGER, tag: STRING, file_name: STRING}\\nIdentified as {triplet_source_id: STRING, page: INTEGER, tag: STRING, file_name: STRING}\\nAdministered at {triplet_source_id: STRING, page: INTEGER, tag: STRING, file_name: STRING}\\nObserved {triplet_source_id: STRING, page: INTEGER, tag: STRING, file_name: STRING}\\nAnd {triplet_source_id: STRING, page: INTEGER, tag: STRING, file_name: STRING}\\nIndicate {triplet_source_id: STRING, page: INTEGER, tag: STRING, file_name: STRING}\\nRespond to {triplet_source_id: STRING, page: INTEGER, tag: STRING, file_name: STRING}\\nEnrolled in {triplet_source_id: STRING, page: INTEGER, tag: STRING, file_name: STRING}\\nAt least {triplet_source_id: STRING, page: INTEGER, tag: STRING, file_name: STRING}\\nReceiving {triplet_source_id: STRING, page: INTEGER, tag: STRING, file_name: STRING}\\nIncludes {triplet_source_id: STRING, page: INTEGER, tag: STRING, file_name: STRING}\\nPlays role in {triplet_source_id: STRING, page: INTEGER, tag: STRING, file_name: STRING}\\nPublished in {triplet_source_id: STRING, page: INTEGER, tag: STRING, file_name: STRING}\\nEdited by {triplet_source_id: STRING, page: INTEGER, tag: STRING, file_name: STRING}\\nIs about {triplet_source_id: STRING, page: INTEGER, tag: STRING, file_name: STRING}\\nRelated to {triplet_source_id: STRING, page: INTEGER, tag: STRING, file_name: STRING}\\nIs the corresponding author of {triplet_source_id: STRING, page: INTEGER, tag: STRING, file_name: STRING}\\nCan reduce {triplet_source_id: STRING, page: INTEGER, tag: STRING, file_name: STRING}\\nTreated by {triplet_source_id: STRING, page: INTEGER, tag: STRING, file_name: STRING}\\nIs characterized with {triplet_source_id: STRING, page: INTEGER, tag: STRING, file_name: STRING}\\nSuffer from {triplet_source_id: STRING, page: INTEGER, tag: STRING, file_name: STRING}\\nReleased from {triplet_source_id: STRING, page: INTEGER, tag: STRING, file_name: STRING}\\nDrug of choice in {triplet_source_id: STRING, page: INTEGER, tag: STRING, file_name: STRING}\\nSignificantly shortens {triplet_source_id: STRING, page: INTEGER, tag: STRING, file_name: STRING}\\nUseful in {triplet_source_id: STRING, page: INTEGER, tag: STRING, file_name: STRING}\\nStable without {triplet_source_id: STRING, page: INTEGER, tag: STRING, file_name: STRING}\\nHas effects on {triplet_source_id: STRING, page: INTEGER, tag: STRING, file_name: STRING}\\nInduces {triplet_source_id: STRING, page: INTEGER, tag: STRING, file_name: STRING}\\nRises concentration of {triplet_source_id: STRING, page: INTEGER, tag: STRING, file_name: STRING}\\nAre titrated according to {triplet_source_id: STRING, page: INTEGER, tag: STRING, file_name: STRING}\\nCan increase {triplet_source_id: STRING, page: INTEGER, tag: STRING, file_name: STRING}\\nHas resulted in {triplet_source_id: STRING, page: INTEGER, tag: STRING, file_name: STRING}\\nShould be done with {triplet_source_id: STRING, page: INTEGER, tag: STRING, file_name: STRING}\\nShould determine {triplet_source_id: STRING, page: INTEGER, tag: STRING, file_name: STRING}\\nIs needed during {triplet_source_id: STRING, page: INTEGER, tag: STRING, file_name: STRING}\\nAre excreted in {triplet_source_id: STRING, page: INTEGER, tag: STRING, file_name: STRING}\\nHad resolution of {triplet_source_id: STRING, page: INTEGER, tag: STRING, file_name: STRING}\\nAre unable to concentrate {triplet_source_id: STRING, page: INTEGER, tag: STRING, file_name: STRING}\\nMay act {triplet_source_id: STRING, page: INTEGER, tag: STRING, file_name: STRING}\\nEligible to participate in {triplet_source_id: STRING, page: INTEGER, tag: STRING, file_name: STRING}\\nTitrated one week at a time beginning with {triplet_source_id: STRING, page: INTEGER, tag: STRING, file_name: STRING}\\nExtended {triplet_source_id: STRING, page: INTEGER, tag: STRING, file_name: STRING}\\nExcretion {triplet_source_id: STRING, page: INTEGER, tag: STRING, file_name: STRING}\\nSodium {triplet_source_id: STRING, page: INTEGER, tag: STRING, file_name: STRING}\\nDifferent {triplet_source_id: STRING, page: INTEGER, tag: STRING, file_name: STRING}\\nIs drug of choice for {triplet_source_id: STRING, page: INTEGER, tag: STRING, file_name: STRING}\\nResults from {triplet_source_id: STRING, page: INTEGER, tag: STRING, file_name: STRING}\\nDesmopressin for {triplet_source_id: STRING, page: INTEGER, tag: STRING, file_name: STRING}\\nNephrogenic diabetes insipidus {triplet_source_id: STRING, page: INTEGER, tag: STRING, file_name: STRING}\\nDesmopressin {triplet_source_id: STRING, page: INTEGER, tag: STRING, file_name: STRING}\\nOral desmopressin {triplet_source_id: STRING, page: INTEGER, tag: STRING, file_name: STRING}\\nDose titration study {triplet_source_id: STRING, page: INTEGER, tag: STRING, file_name: STRING}\\nDesmopressin resistant enuresis {triplet_source_id: STRING, page: INTEGER, tag: STRING, file_name: STRING}\\nThrombocytopenia {triplet_source_id: STRING, page: INTEGER, tag: STRING, file_name: STRING}\\nCentral nervous {triplet_source_id: STRING, page: INTEGER, tag: STRING, file_name: STRING}\\nThe relationships:\\n(:Chunk)-[:MENTIONS]->(:entity)\\n(:Chunk)-[:NEXT]->(:Chunk)\\n(:Chunk)-[:PREVIOUS]->(:Chunk)\\n(:entity)-[:0]->(:entity)\\n(:entity)-[:Is]->(:entity)\\n(:entity)-[:Has tag]->(:entity)\\n(:entity)-[:Is about]->(:entity)\\n(:entity)-[:Related to]->(:entity)\\n(:entity)-[:Treated by]->(:entity)\\n(:entity)-[:Is characterized with]->(:entity)\\n(:entity)-[:Is located in]->(:entity)\\n(:entity)-[:Is the corresponding author of]->(:entity)\\n(:entity)-[:Is affiliated with]->(:entity)\\n(:entity)-[:Administered at]->(:entity)\\n(:entity)-[:Is used in]->(:entity)\\n(:entity)-[:Reduces]->(:entity)\\n(:entity)-[:Has]->(:entity)\\n(:entity)-[:Can reduce]->(:entity)\\n(:entity)-[:Confirmed in]->(:entity)\\n(:entity)-[:Treats]->(:entity)\\n(:entity)-[:Differs from]->(:entity)\\n(:entity)-[:Plays role in]->(:entity)\\n(:entity)-[:Drug of choice in]->(:entity)\\n(:entity)-[:Significantly shortens]->(:entity)\\n(:entity)-[:Useful in]->(:entity)\\n(:entity)-[:Has effects on]->(:entity)\\n(:entity)-[:Induces]->(:entity)\\n(:entity)-[:Rises concentration of]->(:entity)\\n(:entity)-[:Is classified in]->(:entity)\\n(:entity)-[:Does not have]->(:entity)\\n(:entity)-[:Has resulted in]->(:entity)\\n(:entity)-[:Synthesized in]->(:entity)\\n(:entity)-[:Used in]->(:entity)\\n(:entity)-[:Stimulates]->(:entity)\\n(:entity)-[:May act]->(:entity)\\n(:entity)-[:Is drug of choice for]->(:entity)\\n(:entity)-[:Results from]->(:entity)\\n(:entity)-[:Increases reabsorption of]->(:entity)\\n(:entity)-[:Associated with]->(:entity)\\n(:entity)-[:Given to]->(:entity)\\n(:entity)-[:Experienced]->(:entity)\\n(:entity)-[:Had resolution of]->(:entity)\\n(:entity)-[:Released when]->(:entity)\\n(:entity)-[:Is released when]->(:entity)\\n(:entity)-[:Acts on]->(:entity)\\n(:entity)-[:Eligible to participate in]->(:entity)\\n(:entity)-[:Respond to]->(:entity)\\n(:entity)-[:Suffer from]->(:entity)\\n(:entity)-[:Are unable to concentrate]->(:entity)\\n(:entity)-[:Allowed to progress to]->(:entity)\\n(:entity)-[:Released from]->(:entity)\\n(:entity)-[:Placed in]->(:entity)\\n(:entity)-[:Lack of]->(:entity)\\n(:entity)-[:Stable without]->(:entity)\\n(:entity)-[:Did not experience]->(:entity)\\n(:entity)-[:May be due to]->(:entity)\\n(:entity)-[:Located in]->(:entity)\\n(:entity)-[:Are titrated according to]->(:entity)\\n(:entity)-[:Are excreted in]->(:entity)\\n(:entity)-[:Can cause]->(:entity)\\n(:entity)-[:Can increase]->(:entity)\\n(:entity)-[:Should be taken]->(:entity)\\n(:entity)-[:Is needed during]->(:entity)\\n(:entity)-[:Is needed in]->(:entity)\\n(:entity)-[:Should be done in]->(:entity)\\n(:entity)-[:Should be done with]->(:entity)\\n(:entity)-[:Should determine]->(:entity)\\n(:entity)-[:Had]->(:entity)\\n(:entity)-[:Ceased]->(:entity)\\n(:entity)-[:Demonstrated]->(:entity)\\n(:entity)-[:Indicate]->(:entity)\\n(:entity)-[:Enrolled in]->(:entity)\\n(:entity)-[:Receiving]->(:entity)\\n(:entity)-[:Titrated one week at a time beginning with]->(:entity)\\n(:entity)-[:Identified as]->(:entity)\\n(:entity)-[:Compared to]->(:entity)\\n(:entity)-[:Extended]->(:entity)\\n(:entity)-[:Excretion]->(:entity)\\n(:entity)-[:Sodium]->(:entity)\\n(:entity)-[:Different]->(:entity)\\n(:entity)-[:Observed]->(:entity)\\n(:entity)-[:Less than]->(:entity)\\n(:entity)-[:At least]->(:entity)\\n(:entity)-[:Includes]->(:entity)\\n(:entity)-[:Nephrogenic diabetes insipidus]->(:entity)\\n(:entity)-[:Desmopressin for]->(:entity)\\n(:entity)-[:Edited by]->(:entity)\\n(:entity)-[:Desmopressin]->(:entity)\\n(:entity)-[:Oral desmopressin]->(:entity)\\n(:entity)-[:Dose titration study]->(:entity)\\n(:entity)-[:Desmopressin resistant enuresis]->(:entity)\\n(:entity)-[:Thrombocytopenia]->(:entity)\\n(:entity)-[:Central nervous]->(:entity)\\n(:entity)-[:Published in]->(:entity)\\n(:entity)-[:After]->(:entity)\\n(:entity)-[:During]->(:entity)\\n(:entity)-[:In]->(:entity)\\n(:entity)-[:And]->(:entity)'"
      ]
     },
     "execution_count": 65,
     "metadata": {},
     "output_type": "execute_result"
    }
   ],
   "source": [
    "index.property_graph_store.get_schema_str()"
   ]
  },
  {
   "cell_type": "code",
   "execution_count": 67,
   "metadata": {},
   "outputs": [],
   "source": [
    "# custom_sub_retriever = MyCustomRetriever(\n",
    "#     index.property_graph_store,\n",
    "#     include_text=True,\n",
    "#     vector_store=index.vector_store,\n",
    "\n",
    "#     cohere_api_key=\"GHzVxufJiExUdL8hIjonmcApMlKwsZZCOzaKHBfW\",\n",
    "# )\n",
    "\n",
    "custom_sub_retriever = MyCustomRetriever(\n",
    "    graph_store=index.property_graph_store,\n",
    "    include_text=True,\n",
    "    embed_model=embed_model,\n",
    "    vector_store=index.vector_store,\n",
    "    llm=llm,\n",
    "    text_to_cypher_template=index.property_graph_store.text_to_cypher_template,\n",
    "    cohere_api_key=\"\",\n",
    ")"
   ]
  },
  {
   "cell_type": "code",
   "execution_count": 68,
   "metadata": {},
   "outputs": [],
   "source": [
    "from llama_index.core.query_engine import RetrieverQueryEngine\n",
    "\n",
    "query_engine = RetrieverQueryEngine.from_args(\n",
    "    index.as_retriever(sub_retrievers=[custom_sub_retriever]), llm=llm\n",
    ")"
   ]
  },
  {
   "cell_type": "code",
   "execution_count": 56,
   "metadata": {},
   "outputs": [],
   "source": [
    "base_retriever = VectorContextRetriever(index.property_graph_store, include_text=True, embed_model=embed_model, vector_store=index.vector_store, similarity_top_k=4, path_depth=1)\n",
    "base_query_engine = index.as_query_engine(sub_retrievers=[base_retriever])\n"
   ]
  },
  {
   "cell_type": "code",
   "execution_count": 57,
   "metadata": {},
   "outputs": [
    {
     "name": "stdout",
     "output_type": "stream",
     "text": [
      "Desmopressin is used in the treatment of both diabetes insipidus and hemophilia. It is a drug of choice for substitution treatment of diabetes insipidus and is also used in the treatment of coagulopathies, including hemophilia A and von Willebrand's disease.\n"
     ]
    }
   ],
   "source": [
    "response = base_query_engine.query(\n",
    "    \"what is the relationship between diabetes and hemophilia?\"\n",
    ")\n",
    "print(str(response))"
   ]
  },
  {
   "cell_type": "code",
   "execution_count": 69,
   "metadata": {},
   "outputs": [
    {
     "name": "stdout",
     "output_type": "stream",
     "text": [
      "Desmopressin is used in the management of mild-to-moderate hemophilia A and is also a drug of choice for substitution treatment of diabetes insipidus.\n"
     ]
    }
   ],
   "source": [
    "response = query_engine.query(\n",
    "    \"what is the relationship between diabetes and hemophilia?\"\n",
    ")\n",
    "\n",
    "print(str(response))"
   ]
  },
  {
   "cell_type": "code",
   "execution_count": 70,
   "metadata": {},
   "outputs": [
    {
     "name": "stdout",
     "output_type": "stream",
     "text": [
      "Node ID: dac5fee2-2075-4fcb-b79d-5178a257c82f\n",
      "Text: page: 4 file_name: File1.pdf tag: table  Here are some facts\n",
      "extracted from the provided text:  Haemophilia -> Published in -> 2000\n",
      "Anesthesiol ; :-. () Wieting J.M., Dykstra D.D.,\n",
      "Ruggiero M.P. et al. : Central nervous  | orrhage after desmopressin\n",
      "administration. Anesthesiol ; :-. () Wieting J.M.,\n",
      "Dykstra D.D., R...\n",
      "Score:  1.000\n",
      "\n"
     ]
    }
   ],
   "source": [
    "res = index.as_retriever(sub_retrievers=[custom_sub_retriever]).retrieve(\n",
    "    \"what is the relationship between diabetes and hemophilia?\"\n",
    ")\n",
    "for r in res:\n",
    "    print(r)"
   ]
  }
 ],
 "metadata": {
  "kernelspec": {
   "display_name": ".venv",
   "language": "python",
   "name": "python3"
  },
  "language_info": {
   "codemirror_mode": {
    "name": "ipython",
    "version": 3
   },
   "file_extension": ".py",
   "mimetype": "text/x-python",
   "name": "python",
   "nbconvert_exporter": "python",
   "pygments_lexer": "ipython3",
   "version": "3.12.2"
  }
 },
 "nbformat": 4,
 "nbformat_minor": 2
}
